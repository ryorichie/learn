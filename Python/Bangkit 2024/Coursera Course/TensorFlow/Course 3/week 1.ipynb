{
 "cells": [
  {
   "cell_type": "markdown",
   "metadata": {},
   "source": [
    "# Lib Import"
   ]
  },
  {
   "cell_type": "code",
   "execution_count": 28,
   "metadata": {},
   "outputs": [],
   "source": [
    "import tensorflow as tf\n",
    "from tensorflow import keras\n",
    "from tensorflow.keras.preprocessing.text import Tokenizer\n",
    "from tensorflow.keras.preprocessing.sequence import pad_sequences"
   ]
  },
  {
   "cell_type": "markdown",
   "metadata": {},
   "source": [
    "# Training Data"
   ]
  },
  {
   "cell_type": "code",
   "execution_count": 29,
   "metadata": {},
   "outputs": [],
   "source": [
    "sentences = [\n",
    "    'good afternoon all',\n",
    "    'everybody, good afternoon',\n",
    "    'all and everybody is same'\n",
    "]\n",
    "\n",
    "test_sentences = [\n",
    "    'everybody getting kidnapped in same aftrernoon',\n",
    "    'all afternoon is same as always',\n",
    "    'everybody and all is the same word',\n",
    "]"
   ]
  },
  {
   "cell_type": "markdown",
   "metadata": {},
   "source": [
    "# Tokenizer"
   ]
  },
  {
   "cell_type": "markdown",
   "metadata": {},
   "source": [
    "## Basic"
   ]
  },
  {
   "cell_type": "code",
   "execution_count": 30,
   "metadata": {},
   "outputs": [
    {
     "name": "stdout",
     "output_type": "stream",
     "text": [
      "{'<OOV>': 1, 'good': 2, 'afternoon': 3, 'all': 4, 'everybody': 5, 'and': 6, 'is': 7, 'same': 8}\n"
     ]
    }
   ],
   "source": [
    "tokenizer = Tokenizer(num_words=100, oov_token='<OOV>') # OOV nyatat kata lain saat texts to sequence\n",
    "tokenizer.fit_on_texts(sentences)\n",
    "# tokenizer.fit_on_texts(test_sentences) can be added\n",
    "\n",
    "word_index = tokenizer.word_index\n",
    "print(word_index)"
   ]
  },
  {
   "cell_type": "markdown",
   "metadata": {},
   "source": [
    "## Text to sequences"
   ]
  },
  {
   "cell_type": "code",
   "execution_count": 31,
   "metadata": {},
   "outputs": [
    {
     "name": "stdout",
     "output_type": "stream",
     "text": [
      "[[5, 1, 1, 1, 8, 1], [4, 3, 7, 8, 1, 1], [5, 6, 4, 7, 1, 8, 1]]\n"
     ]
    }
   ],
   "source": [
    "tts = tokenizer.texts_to_sequences(test_sentences)\n",
    "print(tts)"
   ]
  },
  {
   "cell_type": "markdown",
   "metadata": {},
   "source": [
    "## Padding"
   ]
  },
  {
   "cell_type": "code",
   "execution_count": 33,
   "metadata": {},
   "outputs": [
    {
     "name": "stdout",
     "output_type": "stream",
     "text": [
      "[[5 1 1 1 8 1 0]\n",
      " [4 3 7 8 1 1 0]\n",
      " [5 6 4 7 1 8 1]]\n"
     ]
    }
   ],
   "source": [
    "padded_tts = pad_sequences(tts, padding='post')\n",
    "print(padded_tts)"
   ]
  }
 ],
 "metadata": {
  "kernelspec": {
   "display_name": "Python 3",
   "language": "python",
   "name": "python3"
  },
  "language_info": {
   "codemirror_mode": {
    "name": "ipython",
    "version": 3
   },
   "file_extension": ".py",
   "mimetype": "text/x-python",
   "name": "python",
   "nbconvert_exporter": "python",
   "pygments_lexer": "ipython3",
   "version": "3.12.1"
  }
 },
 "nbformat": 4,
 "nbformat_minor": 2
}
