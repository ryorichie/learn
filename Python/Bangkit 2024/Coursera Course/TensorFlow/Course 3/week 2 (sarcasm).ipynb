{
 "cells": [
  {
   "cell_type": "markdown",
   "metadata": {},
   "source": [
    "# Sarcasm Analysis"
   ]
  },
  {
   "cell_type": "markdown",
   "metadata": {},
   "source": [
    "# Library and Variable"
   ]
  },
  {
   "cell_type": "code",
   "execution_count": 16,
   "metadata": {},
   "outputs": [],
   "source": [
    "import tensorflow as tf\n",
    "from tensorflow import keras\n",
    "from tensorflow.keras.preprocessing.text import Tokenizer\n",
    "from tensorflow.keras.preprocessing.sequence import pad_sequences\n",
    "import numpy as np\n",
    "\n",
    "vocab_size = 10000\n",
    "embedding_dim = 16\n",
    "max_length = 32\n",
    "trunch_type = 'post'\n",
    "padding_type = 'post'\n",
    "oov_tok = '<oov>'\n",
    "training_size = 20000"
   ]
  },
  {
   "cell_type": "markdown",
   "metadata": {},
   "source": [
    "## Importing Data"
   ]
  },
  {
   "cell_type": "code",
   "execution_count": 17,
   "metadata": {},
   "outputs": [],
   "source": [
    "import json\n",
    "\n",
    "with open(\"sarcasm.json\", \"r\") as f:\n",
    "    datastore = json.load(f) # now datastore is a list\n",
    "    \n",
    "sentences = []\n",
    "labels = []\n",
    "\n",
    "for all in datastore:\n",
    "    sentences.append(all['headline'])\n",
    "    labels.append(all['is_sarcastic'])\n",
    "    \n",
    "training_sentences = sentences[0:training_size]\n",
    "testing_sentences = sentences[training_size:]\n",
    "training_labels = labels[0:training_size]\n",
    "testing_labels = labels[training_size:]\n",
    "\n",
    "training_labels = np.array(training_labels)\n",
    "testing_labels = np.array(testing_labels)"
   ]
  },
  {
   "cell_type": "markdown",
   "metadata": {},
   "source": [
    "## Tokenizer"
   ]
  },
  {
   "cell_type": "code",
   "execution_count": 18,
   "metadata": {},
   "outputs": [
    {
     "name": "stdout",
     "output_type": "stream",
     "text": [
      "headline: [6918, 595, 1, 2871, 70, 47, 2240, 1787, 4, 99, 11, 473, 2, 288]\n",
      "padded seq: [6918  595    1 2871   70   47 2240 1787    4   99   11  473    2  288\n",
      "    0    0    0    0    0    0    0    0    0    0    0    0    0    0\n",
      "    0    0    0    0]\n"
     ]
    }
   ],
   "source": [
    "vocab_size = 10000\n",
    "embedding_dim = 16\n",
    "max_length = 32\n",
    "trunch_type = 'post'\n",
    "padding_type = 'post'\n",
    "oov_tok = '<oov>'\n",
    "training_size = 20000\n",
    "\n",
    "tokenizer = Tokenizer(num_words=vocab_size, oov_token=oov_tok)\n",
    "tokenizer.fit_on_texts(training_sentences)\n",
    "\n",
    "word_index = tokenizer.word_index\n",
    "\n",
    "training_sequences = tokenizer.texts_to_sequences(training_sentences)\n",
    "training_padded = pad_sequences(training_sequences, maxlen= max_length, padding=padding_type, truncating=trunch_type)\n",
    "\n",
    "testing_sequences = tokenizer.texts_to_sequences(testing_sentences)\n",
    "testing_padded = pad_sequences(testing_sequences, maxlen= max_length, padding=padding_type, truncating=trunch_type)\n",
    "\n",
    "\n",
    "index = 250\n",
    "print(f\"headline: {training_sequences[index]}\")\n",
    "print(f\"padded seq: {training_padded[index]}\")"
   ]
  },
  {
   "cell_type": "markdown",
   "metadata": {},
   "source": [
    "## Build the Model"
   ]
  },
  {
   "cell_type": "code",
   "execution_count": 22,
   "metadata": {},
   "outputs": [
    {
     "name": "stdout",
     "output_type": "stream",
     "text": [
      "Epoch 1/30\n",
      "625/625 - 4s - 7ms/step - accuracy: 0.7502 - loss: 0.4776 - val_accuracy: 0.8506 - val_loss: 0.3532\n",
      "Epoch 2/30\n",
      "625/625 - 3s - 4ms/step - accuracy: 0.8803 - loss: 0.2806 - val_accuracy: 0.8454 - val_loss: 0.3492\n",
      "Epoch 3/30\n",
      "625/625 - 2s - 3ms/step - accuracy: 0.9081 - loss: 0.2241 - val_accuracy: 0.8429 - val_loss: 0.3843\n",
      "Epoch 4/30\n",
      "625/625 - 2s - 3ms/step - accuracy: 0.9317 - loss: 0.1773 - val_accuracy: 0.8287 - val_loss: 0.4284\n",
      "Epoch 5/30\n",
      "625/625 - 1s - 2ms/step - accuracy: 0.9404 - loss: 0.1523 - val_accuracy: 0.8410 - val_loss: 0.4341\n",
      "Epoch 6/30\n",
      "625/625 - 1s - 2ms/step - accuracy: 0.9488 - loss: 0.1364 - val_accuracy: 0.8398 - val_loss: 0.4605\n",
      "Epoch 7/30\n",
      "625/625 - 1s - 2ms/step - accuracy: 0.9558 - loss: 0.1216 - val_accuracy: 0.7857 - val_loss: 0.6834\n",
      "Epoch 8/30\n",
      "625/625 - 2s - 3ms/step - accuracy: 0.9567 - loss: 0.1170 - val_accuracy: 0.8271 - val_loss: 0.5439\n",
      "Epoch 9/30\n",
      "625/625 - 3s - 5ms/step - accuracy: 0.9625 - loss: 0.1024 - val_accuracy: 0.8159 - val_loss: 0.5338\n",
      "Epoch 10/30\n",
      "625/625 - 2s - 3ms/step - accuracy: 0.9670 - loss: 0.0947 - val_accuracy: 0.8217 - val_loss: 0.6607\n",
      "Epoch 11/30\n",
      "625/625 - 2s - 3ms/step - accuracy: 0.9692 - loss: 0.0840 - val_accuracy: 0.8258 - val_loss: 0.5949\n",
      "Epoch 12/30\n",
      "625/625 - 1s - 2ms/step - accuracy: 0.9722 - loss: 0.0785 - val_accuracy: 0.8210 - val_loss: 0.6687\n",
      "Epoch 13/30\n",
      "625/625 - 2s - 3ms/step - accuracy: 0.9703 - loss: 0.0790 - val_accuracy: 0.8250 - val_loss: 0.7593\n",
      "Epoch 14/30\n",
      "625/625 - 2s - 4ms/step - accuracy: 0.9748 - loss: 0.0689 - val_accuracy: 0.8216 - val_loss: 0.6749\n",
      "Epoch 15/30\n",
      "625/625 - 1s - 2ms/step - accuracy: 0.9765 - loss: 0.0646 - val_accuracy: 0.8220 - val_loss: 0.8119\n",
      "Epoch 16/30\n",
      "625/625 - 1s - 2ms/step - accuracy: 0.9764 - loss: 0.0581 - val_accuracy: 0.8210 - val_loss: 0.8858\n",
      "Epoch 17/30\n",
      "625/625 - 1s - 2ms/step - accuracy: 0.9783 - loss: 0.0536 - val_accuracy: 0.8147 - val_loss: 0.8464\n",
      "Epoch 18/30\n",
      "625/625 - 1s - 2ms/step - accuracy: 0.9815 - loss: 0.0461 - val_accuracy: 0.8176 - val_loss: 1.0371\n",
      "Epoch 19/30\n",
      "625/625 - 2s - 3ms/step - accuracy: 0.9803 - loss: 0.0476 - val_accuracy: 0.8223 - val_loss: 1.2106\n",
      "Epoch 20/30\n",
      "625/625 - 1s - 2ms/step - accuracy: 0.9768 - loss: 0.0542 - val_accuracy: 0.8183 - val_loss: 1.0378\n",
      "Epoch 21/30\n",
      "625/625 - 2s - 2ms/step - accuracy: 0.9818 - loss: 0.0410 - val_accuracy: 0.8188 - val_loss: 1.1125\n",
      "Epoch 22/30\n",
      "625/625 - 1s - 2ms/step - accuracy: 0.9847 - loss: 0.0329 - val_accuracy: 0.8156 - val_loss: 1.1965\n",
      "Epoch 23/30\n",
      "625/625 - 2s - 3ms/step - accuracy: 0.9832 - loss: 0.0410 - val_accuracy: 0.8198 - val_loss: 1.2524\n",
      "Epoch 24/30\n",
      "625/625 - 2s - 4ms/step - accuracy: 0.9847 - loss: 0.0386 - val_accuracy: 0.8177 - val_loss: 1.3137\n",
      "Epoch 25/30\n",
      "625/625 - 2s - 3ms/step - accuracy: 0.9859 - loss: 0.0329 - val_accuracy: 0.8109 - val_loss: 1.2502\n",
      "Epoch 26/30\n",
      "625/625 - 3s - 4ms/step - accuracy: 0.9859 - loss: 0.0337 - val_accuracy: 0.8055 - val_loss: 1.4295\n",
      "Epoch 27/30\n",
      "625/625 - 2s - 4ms/step - accuracy: 0.9857 - loss: 0.0338 - val_accuracy: 0.7982 - val_loss: 1.5119\n",
      "Epoch 28/30\n",
      "625/625 - 1s - 2ms/step - accuracy: 0.9887 - loss: 0.0272 - val_accuracy: 0.8129 - val_loss: 1.6567\n",
      "Epoch 29/30\n",
      "625/625 - 1s - 2ms/step - accuracy: 0.9836 - loss: 0.0394 - val_accuracy: 0.8144 - val_loss: 1.5751\n",
      "Epoch 30/30\n",
      "625/625 - 1s - 2ms/step - accuracy: 0.9862 - loss: 0.0316 - val_accuracy: 0.8196 - val_loss: 1.3416\n"
     ]
    },
    {
     "data": {
      "text/plain": [
       "<keras.src.callbacks.history.History at 0x280af2616a0>"
      ]
     },
     "execution_count": 22,
     "metadata": {},
     "output_type": "execute_result"
    }
   ],
   "source": [
    "model = tf.keras.Sequential([\n",
    "    tf.keras.layers.Embedding(vocab_size, embedding_dim),\n",
    "    tf.keras.layers.GlobalAveragePooling1D(),\n",
    "    tf.keras.layers.Dropout(0.1),\n",
    "    tf.keras.layers.Dense(256, activation='relu'),\n",
    "    tf.keras.layers.Dense(128, activation='relu'),\n",
    "    tf.keras.layers.Dense(1, activation='sigmoid'),\n",
    "])\n",
    "\n",
    "model.compile(\n",
    "    loss='binary_crossentropy',\n",
    "    optimizer='adam',\n",
    "    metrics=['accuracy']\n",
    ")\n",
    "\n",
    "model.fit(\n",
    "    training_padded,\n",
    "    training_labels,\n",
    "    epochs=30,\n",
    "    validation_data=(testing_padded, testing_labels),\n",
    "    verbose=2\n",
    ")"
   ]
  },
  {
   "cell_type": "markdown",
   "metadata": {},
   "source": []
  }
 ],
 "metadata": {
  "kernelspec": {
   "display_name": "Python 3",
   "language": "python",
   "name": "python3"
  },
  "language_info": {
   "codemirror_mode": {
    "name": "ipython",
    "version": 3
   },
   "file_extension": ".py",
   "mimetype": "text/x-python",
   "name": "python",
   "nbconvert_exporter": "python",
   "pygments_lexer": "ipython3",
   "version": "3.12.3"
  }
 },
 "nbformat": 4,
 "nbformat_minor": 2
}
