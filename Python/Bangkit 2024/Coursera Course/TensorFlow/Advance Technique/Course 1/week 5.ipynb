{
 "cells": [
  {
   "cell_type": "markdown",
   "metadata": {},
   "source": [
    "# Custom Callbacks\n"
   ]
  },
  {
   "cell_type": "markdown",
   "metadata": {},
   "source": [
    "## Build Simple Model"
   ]
  },
  {
   "cell_type": "code",
   "execution_count": 7,
   "metadata": {},
   "outputs": [],
   "source": [
    "import tensorflow as tf\n",
    "\n",
    "x = tf.constant([[1.0, 2.0, 3.0], [4.0, 5.0, 6.0]])\n",
    "y = tf.constant([[12.0], [20.0]])\n",
    "\n",
    "x_val = tf.constant([[5,6,7], [8,9,10]])\n",
    "y_val = tf.constant([[24.0], [27.0]])\n",
    "\n",
    "model = tf.keras.Sequential()\n",
    "\n",
    "model.add(tf.keras.layers.Dense(units=10, input_shape=[3]))\n",
    "\n",
    "model.compile(optimizer='sgd', loss='mean_squared_error')"
   ]
  },
  {
   "cell_type": "markdown",
   "metadata": {},
   "source": [
    "## Custom Callbacks 1"
   ]
  },
  {
   "cell_type": "code",
   "execution_count": 8,
   "metadata": {},
   "outputs": [
    {
     "name": "stdout",
     "output_type": "stream",
     "text": [
      "Training: batch0, begin at2024-05-19 15:01:54.902834\n",
      "Epoch 1/3\n",
      "1/1 [==============================] - ETA: 0s - loss: 283.4120Training: batch0, end at2024-05-19 15:01:55.563719\n",
      "1/1 [==============================] - 1s 661ms/step - loss: 283.4120\n",
      "Training: batch1, begin at2024-05-19 15:01:55.566717\n",
      "Epoch 2/3\n",
      "1/1 [==============================] - ETA: 0s - loss: 234.3988Training: batch1, end at2024-05-19 15:01:55.572719\n",
      "1/1 [==============================] - 0s 6ms/step - loss: 234.3988\n",
      "Training: batch2, begin at2024-05-19 15:01:55.575720\n",
      "Epoch 3/3\n",
      "1/1 [==============================] - ETA: 0s - loss: 193.9985Training: batch2, end at2024-05-19 15:01:55.585719\n",
      "1/1 [==============================] - 0s 11ms/step - loss: 193.9985\n"
     ]
    },
    {
     "data": {
      "text/plain": [
       "<keras.src.callbacks.History at 0x2cffe282c40>"
      ]
     },
     "execution_count": 8,
     "metadata": {},
     "output_type": "execute_result"
    }
   ],
   "source": [
    "import datetime\n",
    "\n",
    "class TimerCallback(tf.keras.callbacks.Callback):\n",
    "    def on_epoch_begin(self, batch, logs=None):\n",
    "        print(f'Training: batch{batch}, begin at{datetime.datetime.now()}')\n",
    "        \n",
    "    def on_epoch_end(self, batch, logs=None):\n",
    "        print(f'Training: batch{batch}, end at{datetime.datetime.now()}')\n",
    "        \n",
    "callback = TimerCallback()\n",
    "model.fit(x, y, epochs=3, callbacks=[callback])"
   ]
  },
  {
   "cell_type": "markdown",
   "metadata": {},
   "source": [
    "## Custom Callback 2"
   ]
  },
  {
   "cell_type": "code",
   "execution_count": 11,
   "metadata": {},
   "outputs": [
    {
     "name": "stdout",
     "output_type": "stream",
     "text": [
      "Epoch 1/100\n",
      "1/1 [==============================] - ETA: 0s - loss: 110.6211Epoch: 0, val/train loss ratio: 1.4041487727289907\n",
      "Epoch: {epoch}, Stop training\n",
      "1/1 [==============================] - 0s 90ms/step - loss: 110.6211 - val_loss: 155.3284\n"
     ]
    },
    {
     "data": {
      "text/plain": [
       "<keras.src.callbacks.History at 0x2cffe3dcbb0>"
      ]
     },
     "execution_count": 11,
     "metadata": {},
     "output_type": "execute_result"
    }
   ],
   "source": [
    "class DetectOverfittingCallback(tf.keras.callbacks.Callback):\n",
    "    def __init__(self, treshold):\n",
    "        super(DetectOverfittingCallback, self).__init__()\n",
    "        self.treshold = treshold\n",
    "        \n",
    "    def on_epoch_end(self, epoch, logs=None):\n",
    "        ratio = logs['val_loss']/logs['loss']\n",
    "        print(f'Epoch: {epoch}, val/train loss ratio: {ratio}')\n",
    "        \n",
    "        if ratio>self.treshold:\n",
    "            print('Epoch: {epoch}, Stop training')\n",
    "            self.model.stop_training = True\n",
    "\n",
    "model.fit(x, y, epochs=100, validation_data=(x_val, y_val), callbacks=[DetectOverfittingCallback(treshold=0.5)])"
   ]
  },
  {
   "cell_type": "markdown",
   "metadata": {},
   "source": [
    "## Custom Callback 3"
   ]
  },
  {
   "cell_type": "code",
   "execution_count": null,
   "metadata": {},
   "outputs": [],
   "source": [
    "import numpy as np\n",
    "\n",
    "class VisCallback(tf.keras.callbacks.Callback):\n",
    "    def __init__(self, inputs, ground_truth, display_freq=10, n_samples=10):\n",
    "        super(VisCallback, self).__init__()\n",
    "        self.inputs = inputs\n",
    "        self.ground_truth = ground_truth\n",
    "        self.images = []\n",
    "        self.display_freq = display_freq\n",
    "        self.n_samples = n_samples\n",
    "        \n",
    "    def on_epoch_end(self, epoch, logs=None):\n",
    "        indexes = np.random.choice(len(self.inputs), self.n_samples)\n",
    "        x_test, y_test = self.inputs[indexes], self.ground_truth[indexes]\n",
    "        prediction = np.argmax(self.model.predict(x_test), axis =1)\n",
    "    \n",
    "        for i in range(self.n_samples):\n",
    "            self.images.append((x_test[i], y_test[i], prediction[i]))\n",
    "        \n",
    "        if epoch % self.display_freq == 0:\n",
    "            self.display_images()"
   ]
  }
 ],
 "metadata": {
  "kernelspec": {
   "display_name": "exam",
   "language": "python",
   "name": "python3"
  },
  "language_info": {
   "codemirror_mode": {
    "name": "ipython",
    "version": 3
   },
   "file_extension": ".py",
   "mimetype": "text/x-python",
   "name": "python",
   "nbconvert_exporter": "python",
   "pygments_lexer": "ipython3",
   "version": "3.9.2"
  }
 },
 "nbformat": 4,
 "nbformat_minor": 2
}
