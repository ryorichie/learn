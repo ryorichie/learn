{
 "cells": [
  {
   "cell_type": "markdown",
   "metadata": {},
   "source": [
    "# Lib Import"
   ]
  },
  {
   "cell_type": "code",
   "execution_count": 54,
   "metadata": {},
   "outputs": [],
   "source": [
    "import tensorflow as tf\n",
    "from tensorflow.keras.layers import Layer, Dense, Dropout, Embedding, Input, concatenate, Conv2D, BatchNormalization, Activation, MaxPool2D, GlobalAveragePooling2D\n",
    "from tensorflow.keras import Model"
   ]
  },
  {
   "cell_type": "markdown",
   "metadata": {},
   "source": [
    "# Modeling"
   ]
  },
  {
   "cell_type": "code",
   "execution_count": 55,
   "metadata": {},
   "outputs": [],
   "source": [
    "input_a = Input(shape=[1], name=\"input_a\")\n",
    "input_b = Input(shape=[1], name=\"input_b\")\n",
    "hidden_1 = Dense(30, activation=\"relu\")(input_b)\n",
    "hidden_2 = Dense(30, activation=\"relu\")(hidden_1)\n",
    "aux_output = Dense(1, name=\"aux_output\")(hidden_2)\n",
    "concat = concatenate([input_a, hidden_2])\n",
    "output = Dense(1, name=\"output\")(concat)\n",
    "model = tf.keras.Model(inputs=[input_a, input_b], outputs=[output, aux_output])"
   ]
  },
  {
   "cell_type": "markdown",
   "metadata": {},
   "source": [
    "# Making Residual Model with Class"
   ]
  },
  {
   "cell_type": "code",
   "execution_count": 56,
   "metadata": {},
   "outputs": [],
   "source": [
    "class WideAndDeepModel(tf.keras.Model):\n",
    "    def __init__(self, units=30, activation=\"relu\", **kwargs):\n",
    "        super().__init__(**kwargs)\n",
    "        self.hidden1 = Dense(units, activation=activation)\n",
    "        self.hidden2 = Dense(units, activation=activation)\n",
    "        self.main_output = Dense(1)\n",
    "        self.aux_output = Dense(1)\n",
    "\n",
    "    def call(self, inputs):\n",
    "        input_a, input_b = inputs\n",
    "        hidden1 = self.hidden1(input_b)\n",
    "        hidden2 = self.hidden2(hidden1)\n",
    "        concat = concatenate([input_a, hidden2])\n",
    "        main_output = self.main_output(concat)\n",
    "        aux_output = self.aux_output(hidden2)\n",
    "        return main_output, aux_output"
   ]
  },
  {
   "cell_type": "code",
   "execution_count": 57,
   "metadata": {},
   "outputs": [],
   "source": [
    "class CNNResidualLayer(Layer):\n",
    "    def __init__(self, layers, filters, **kwargs):\n",
    "        super().__init__(**kwargs)\n",
    "        self.hidden = [Conv2D(filters, 3, activation=\"relu\") for _ in range(layers)]\n",
    "        \n",
    "    def call(self, inputs):\n",
    "        x = inputs\n",
    "        for layer in self.hidden:\n",
    "            x = layer(x)\n",
    "        return x + inputs"
   ]
  },
  {
   "cell_type": "code",
   "execution_count": 58,
   "metadata": {},
   "outputs": [],
   "source": [
    "class DNNResidualLayer(Layer):\n",
    "    def __init__(self,layers, units, **kwargs):\n",
    "        super().__init__(**kwargs)\n",
    "        self.hidden = [Dense(units, activation=\"relu\") for _ in range(layers)]\n",
    "        \n",
    "    def call(self, inputs):\n",
    "        x = inputs\n",
    "        for layer in self.hidden:\n",
    "            x = layer(x)\n",
    "        return x + inputs"
   ]
  },
  {
   "cell_type": "code",
   "execution_count": 59,
   "metadata": {},
   "outputs": [],
   "source": [
    "class CustomResidual(Model):\n",
    "    def __init__(self, **kwargs):\n",
    "        super().__init__(**kwargs)\n",
    "        self.block1 = CNNResidualLayer(2, 32)\n",
    "        self.block2 = DNNResidualLayer(2, 64)\n",
    "        self.out = Dense(1)\n",
    "        \n",
    "    def call(self, inputs):\n",
    "        x = self.block1(inputs)\n",
    "        x = self.block2(x)\n",
    "        for _ in range(1, 3):\n",
    "            x = self.block2(x)\n",
    "        return self.out(x)"
   ]
  },
  {
   "cell_type": "markdown",
   "metadata": {},
   "source": [
    "# Mini Resnet"
   ]
  },
  {
   "cell_type": "code",
   "execution_count": 78,
   "metadata": {},
   "outputs": [],
   "source": [
    "class IdentityBlock(Model):\n",
    "    def __init__(self, filters, kernel_size):\n",
    "        super(IdentityBlock, self).__init__(name='')\t\n",
    "        self.conv1 = Conv2D(filters, kernel_size, activation=\"relu\", padding='same')\n",
    "        self.conv2 = Conv2D(filters, kernel_size, activation=\"relu\", padding='same')\n",
    "        \n",
    "        self.bn1 = BatchNormalization()\n",
    "        self.bn2 = BatchNormalization()\n",
    "        \n",
    "        self.act = tf.keras.layers.Activation(\"relu\")\n",
    "        self.add = tf.keras.layers.Add()\n",
    "        \n",
    "    def call(self, input_tensor):\n",
    "        x = self.conv1(input_tensor)\n",
    "        x = self.bn1(x)\n",
    "        x = self.act(x)\n",
    "        x = self.conv2(x)\n",
    "        x = self.bn2(x)\n",
    "        x = self.add([x, input_tensor])\n",
    "        x = self.act(x)\n",
    "        return x\n",
    "    \n",
    "class ResNet(Model):\n",
    "    def __init__(self, num_classes,):\n",
    "        super(ResNet, self).__init__()\n",
    "        self.conv = Conv2D(64, 7, padding=\"same\")\n",
    "        self.bn = BatchNormalization()\n",
    "        self.act = Activation(\"relu\")\n",
    "        self.max_pool = MaxPool2D((3, 3))\n",
    "        self.id1b = IdentityBlock(64, 3)\n",
    "        self.id1a = IdentityBlock(64, 3)\n",
    "        self.global_pool = GlobalAveragePooling2D()\n",
    "        self.classifier = Dense(num_classes, activation=\"softmax\")\n",
    "        \n",
    "    def call(self, inputs):\n",
    "        x = self.conv(inputs)\n",
    "        x = self.bn(x)\n",
    "        x = self.act(x)\n",
    "        x = self.max_pool(x)\n",
    "        x = self.id1b(x)\n",
    "        x = self.id1a(x)\n",
    "        x = self.global_pool(x)\n",
    "        return self.classifier(x)\n",
    "        "
   ]
  },
  {
   "cell_type": "code",
   "execution_count": 79,
   "metadata": {},
   "outputs": [
    {
     "name": "stdout",
     "output_type": "stream",
     "text": [
      "Epoch 1/3\n",
      "1875/1875 [==============================] - 145s 75ms/step - loss: 0.1152 - accuracy: 0.9701\n",
      "Epoch 2/3\n",
      "1875/1875 [==============================] - 142s 76ms/step - loss: 0.0428 - accuracy: 0.9873\n",
      "Epoch 3/3\n",
      "1875/1875 [==============================] - 134s 71ms/step - loss: 0.0306 - accuracy: 0.9911\n"
     ]
    },
    {
     "data": {
      "text/plain": [
       "<keras.src.callbacks.History at 0x25e57cd5dc0>"
      ]
     },
     "execution_count": 79,
     "metadata": {},
     "output_type": "execute_result"
    }
   ],
   "source": [
    "from tensorflow.keras.datasets import mnist \n",
    "import tensorflow_datasets as tfds\n",
    "\n",
    "def preprocess(features):\n",
    "    return tf.cast(features['image'], tf.float32) / 255., features['label']\n",
    "\n",
    "resnet = ResNet(10)\n",
    "resnet.compile(optimizer=\"adam\", loss=\"sparse_categorical_crossentropy\", metrics=[\"accuracy\"])\n",
    "dataset = tfds.load(\"mnist\", split=\"train\")\n",
    "dataset = dataset.map(preprocess).batch(32)\n",
    "resnet.fit(dataset, epochs=3)"
   ]
  }
 ],
 "metadata": {
  "kernelspec": {
   "display_name": "python_tensorflow",
   "language": "python",
   "name": "python3"
  },
  "language_info": {
   "codemirror_mode": {
    "name": "ipython",
    "version": 3
   },
   "file_extension": ".py",
   "mimetype": "text/x-python",
   "name": "python",
   "nbconvert_exporter": "python",
   "pygments_lexer": "ipython3",
   "version": "3.9.2"
  }
 },
 "nbformat": 4,
 "nbformat_minor": 2
}
