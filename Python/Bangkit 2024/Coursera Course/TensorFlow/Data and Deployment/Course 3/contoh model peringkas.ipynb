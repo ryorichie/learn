{
 "cells": [
  {
   "cell_type": "code",
   "execution_count": 3,
   "metadata": {},
   "outputs": [
    {
     "name": "stderr",
     "output_type": "stream",
     "text": [
      "c:\\ProgramData\\anaconda3\\envs\\env-name\\lib\\site-packages\\tqdm\\auto.py:21: TqdmWarning: IProgress not found. Please update jupyter and ipywidgets. See https://ipywidgets.readthedocs.io/en/stable/user_install.html\n",
      "  from .autonotebook import tqdm as notebook_tqdm\n",
      "c:\\ProgramData\\anaconda3\\envs\\env-name\\lib\\site-packages\\huggingface_hub\\file_download.py:1132: FutureWarning: `resume_download` is deprecated and will be removed in version 1.0.0. Downloads always resume when possible. If you want to force a new download, use `force_download=True`.\n",
      "  warnings.warn(\n"
     ]
    }
   ],
   "source": [
    "from transformers import BartTokenizer, BartForConditionalGeneration\n",
    "\n",
    "\n",
    "tokenizer = BartTokenizer.from_pretrained('facebook/bart-large-cnn')\n",
    "model = BartForConditionalGeneration.from_pretrained('facebook/bart-large-cnn')"
   ]
  },
  {
   "cell_type": "code",
   "execution_count": 10,
   "metadata": {},
   "outputs": [],
   "source": [
    "def generate_summary(text):\n",
    "    inputs = tokenizer.encode(\"elaborate longer: \" + text, return_tensors=\"pt\", max_length=1024, truncation=True)\n",
    "    summary_ids = model.generate(inputs, max_length=1200, min_length=300, length_penalty=0, num_beams=4, early_stopping=False)\n",
    "    summary = tokenizer.decode(summary_ids[0], skip_special_tokens=True)\n",
    "    return summary"
   ]
  },
  {
   "cell_type": "code",
   "execution_count": 11,
   "metadata": {},
   "outputs": [
    {
     "name": "stdout",
     "output_type": "stream",
     "text": [
      "Original Text: Sekalipun terbilang salah seorang Raja Asyur yang paling berkuasa, Sanherib tetap saja kewalahan mengendalikan Kerajaan Babel yang merupakan bagian selatan dari wilayah Kemaharajaan Asyur Baru. Biang keladi sebagian besar masalah di Babel adalah Marduk-apla-idina II, pemimpin orang Kasdim[6] yang menjadi Raja Babel sebelum ditaklukkan ayah Sanherib. Tidak lama sesudah Sanherib naik takhta pada tahun 705 SM, Marduk-apla-idina merebut Babel dan menjalin persekutuan dengan orang Elam. Meskipun Sanherib berhasil menguasai kembali kawasan selatan pada tahun 700 SM, Marduk-apla-idina masih terus merongrong kekuasaannya, kemungkinan besar dengan cara menghasut raja-raja bawahan Asyur di Syam untuk memberontak sehingga menyulut Perang Syam pada tahun 701 SM, maupun dengan jalan memerangi Bel-ibni, Raja Babel yang diangkat Sanherib. Sesudah Babel dan Elam menawan dan menghukum mati Asyur-nadin-syumi, putra sulung Sanherib yang diangkat menjadi raja baru Babel, Sanherib memerangi kedua kerajaan itu, bahkan berhasil menaklukkan Elam. Karena Babel berada di dalam wilayah kedaulatannya, sudah berulang kali harus ia perangi, dan sudah merenggut nyawa putranya, Sanherib akhirnya menghancurkan kota itu pada tahun 689 SM.\n",
      "Summary: Sanherib tetap saja kewalahan mengendalikan Kerajaan Babel yang merupakan bagian selatan dari wilayah Kemaharajaan Asyur Baru. Biang keladi sebagian besar masalah di Babel adalah Marduk-apla-idina II, pemimpin orang Kasdim[6] yang menjadi Raja Babel sebelum ditaklukkan ayah Sanherib. Sesudah Babel dan Elam menawan dan menghukum mati AsYur-nadin-syumi, putra sulung SanHerib yang diangkat menjadari raja baru Babel. SanherIB akhirnya menghancurkan kota itu pada tahun 689 SM. MardUK-aPla-IDina masih terus merongrong kekuasaannya, kemungkinan besar dengan caraMenghasut raja-raja bawahan Asyu di Syam untuk memberontak sehingga menyulut Perang Syam padaTahun 701 SM, maupun dengan jalan memerangi Bel-ibni, Raja B Babel yangs diangcat Sanher ib. Kedua kerajaan itu, bahkan berhasil menakluksi Elam.\n"
     ]
    }
   ],
   "source": [
    "article = \"Sekalipun terbilang salah seorang Raja Asyur yang paling berkuasa, Sanherib tetap saja kewalahan mengendalikan Kerajaan Babel yang merupakan bagian selatan dari wilayah Kemaharajaan Asyur Baru. Biang keladi sebagian besar masalah di Babel adalah Marduk-apla-idina II, pemimpin orang Kasdim[6] yang menjadi Raja Babel sebelum ditaklukkan ayah Sanherib. Tidak lama sesudah Sanherib naik takhta pada tahun 705 SM, Marduk-apla-idina merebut Babel dan menjalin persekutuan dengan orang Elam. Meskipun Sanherib berhasil menguasai kembali kawasan selatan pada tahun 700 SM, Marduk-apla-idina masih terus merongrong kekuasaannya, kemungkinan besar dengan cara menghasut raja-raja bawahan Asyur di Syam untuk memberontak sehingga menyulut Perang Syam pada tahun 701 SM, maupun dengan jalan memerangi Bel-ibni, Raja Babel yang diangkat Sanherib. Sesudah Babel dan Elam menawan dan menghukum mati Asyur-nadin-syumi, putra sulung Sanherib yang diangkat menjadi raja baru Babel, Sanherib memerangi kedua kerajaan itu, bahkan berhasil menaklukkan Elam. Karena Babel berada di dalam wilayah kedaulatannya, sudah berulang kali harus ia perangi, dan sudah merenggut nyawa putranya, Sanherib akhirnya menghancurkan kota itu pada tahun 689 SM.\"\n",
    "summary = generate_summary(article)\n",
    "print(\"Original Text:\", article)\n",
    "print(\"Summary:\", summary)"
   ]
  }
 ],
 "metadata": {
  "kernelspec": {
   "display_name": "env-name",
   "language": "python",
   "name": "python3"
  },
  "language_info": {
   "codemirror_mode": {
    "name": "ipython",
    "version": 3
   },
   "file_extension": ".py",
   "mimetype": "text/x-python",
   "name": "python",
   "nbconvert_exporter": "python",
   "pygments_lexer": "ipython3",
   "version": "3.10.13"
  }
 },
 "nbformat": 4,
 "nbformat_minor": 2
}
