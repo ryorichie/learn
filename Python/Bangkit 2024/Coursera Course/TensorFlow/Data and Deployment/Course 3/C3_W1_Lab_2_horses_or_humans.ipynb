{
  "cells": [
    {
      "cell_type": "markdown",
      "metadata": {
        "colab_type": "text",
        "id": "view-in-github"
      },
      "source": [
        "<a href=\"https://colab.research.google.com/github/https-deeplearning-ai/tensorflow-2-public/blob/adding_C3/C3/W1/ungraded_labs/C3_W1_Lab_2_horses_or_humans.ipynb\" target=\"_parent\"><img src=\"https://colab.research.google.com/assets/colab-badge.svg\" alt=\"Open In Colab\"/></a>"
      ]
    },
    {
      "cell_type": "markdown",
      "metadata": {
        "id": "L00LL6u6ruSQ"
      },
      "source": [
        "# Horses or Humans"
      ]
    },
    {
      "cell_type": "code",
      "execution_count": 1,
      "metadata": {
        "id": "zX4Kg8DUTKWO"
      },
      "outputs": [],
      "source": [
        "#@title Licensed under the Apache License, Version 2.0 (the \"License\");\n",
        "# you may not use this file except in compliance with the License.\n",
        "# You may obtain a copy of the License at\n",
        "#\n",
        "# https://www.apache.org/licenses/LICENSE-2.0\n",
        "#\n",
        "# Unless required by applicable law or agreed to in writing, software\n",
        "# distributed under the License is distributed on an \"AS IS\" BASIS,\n",
        "# WITHOUT WARRANTIES OR CONDITIONS OF ANY KIND, either express or implied.\n",
        "# See the License for the specific language governing permissions and\n",
        "# limitations under the License."
      ]
    },
    {
      "cell_type": "code",
      "execution_count": 2,
      "metadata": {
        "id": "ioLbtB3uGKPX"
      },
      "outputs": [],
      "source": [
        "try:\n",
        "  # %tensorflow_version only exists in Colab.\n",
        "  %tensorflow_version 2.x\n",
        "except Exception:\n",
        "  pass"
      ]
    },
    {
      "cell_type": "code",
      "execution_count": 3,
      "metadata": {},
      "outputs": [
        {
          "name": "stdout",
          "output_type": "stream",
          "text": [
            "Name: tensorflow-datasets\n",
            "Version: 4.9.4\n",
            "Summary: tensorflow/datasets is a library of datasets ready to use with TensorFlow.\n",
            "Home-page: https://github.com/tensorflow/datasets\n",
            "Author: Google Inc.\n",
            "Author-email: packages@tensorflow.org\n",
            "License: Apache 2.0\n",
            "Location: c:\\programdata\\anaconda3\\envs\\env-name\\lib\\site-packages\n",
            "Requires: absl-py, click, dm-tree, etils, numpy, promise, protobuf, psutil, requests, tensorflow-metadata, termcolor, toml, tqdm, wrapt\n",
            "Required-by: \n"
          ]
        }
      ],
      "source": [
        "!pip show tensorflow_datasets"
      ]
    },
    {
      "cell_type": "code",
      "execution_count": 7,
      "metadata": {
        "id": "iSq4t32ZHHpt"
      },
      "outputs": [
        {
          "name": "stderr",
          "output_type": "stream",
          "text": [
            "WARNING:absl:Found a different version of the requested dataset:\n",
            "1.0.0\n",
            "Using C:\\Users\\ryori\\tensorflow_datasets\\mnist\\3.0.1 instead.\n"
          ]
        },
        {
          "name": "stdout",
          "output_type": "stream",
          "text": [
            "\u001b[1mDownloading and preparing dataset Unknown size (download: Unknown size, generated: Unknown size, total: Unknown size) to C:\\Users\\ryori\\tensorflow_datasets\\mnist\\3.0.1...\u001b[0m\n"
          ]
        },
        {
          "name": "stderr",
          "output_type": "stream",
          "text": [
            "Dl Completed...: 0 url [00:00, ? url/s]\n",
            "Dl Completed...:   0%|          | 0/1 [00:00<?, ? url/s]\n",
            "Dl Completed...: 100%|██████████| 1/1 [00:00<00:00, 24.77 url/s]\n",
            "Dl Completed...: 100%|██████████| 1/1 [00:00<00:00, 20.72 url/s]\n",
            "Dl Completed...: 100%|██████████| 1/1 [00:00<00:00, 17.83 url/s]\n",
            "Dl Completed...:  50%|█████     | 1/2 [00:00<00:00, 10.86 url/s]\n",
            "Dl Completed...: 100%|██████████| 2/2 [00:00<00:00, 19.03 url/s]\n",
            "Dl Completed...: 100%|██████████| 2/2 [00:00<00:00, 16.25 url/s]\n",
            "Dl Completed...: 100%|██████████| 2/2 [00:00<00:00, 14.38 url/s]\n",
            "Dl Completed...:  67%|██████▋   | 2/3 [00:00<00:00,  5.84 url/s]\n",
            "Dl Completed...: 100%|██████████| 3/3 [00:00<00:00,  8.51 url/s]\n",
            "Dl Completed...: 100%|██████████| 3/3 [00:00<00:00,  8.27 url/s]\n",
            "Dl Completed...: 100%|██████████| 3/3 [00:00<00:00,  8.04 url/s]\n",
            "Dl Completed...:  75%|███████▌  | 3/4 [00:00<00:00,  6.52 url/s]\n",
            "Dl Completed...: 100%|██████████| 4/4 [00:00<00:00,  7.57 url/s]\n",
            "Dl Completed...: 100%|██████████| 4/4 [00:00<00:00,  7.09 url/s]\n",
            "Dl Completed...: 100%|██████████| 4/4 [00:00<00:00,  6.71 url/s]\n",
            "Extraction completed...: 0 file [00:00, ? file/s]\n",
            "Dl Size...: 100%|██████████| 11594722/11594722 [00:00<00:00, 17972772.74 MiB/s]\n",
            "Dl Completed...: 100%|██████████| 4/4 [00:00<00:00,  6.11 url/s]\n",
            "                                                                        \r"
          ]
        },
        {
          "name": "stdout",
          "output_type": "stream",
          "text": [
            "\u001b[1mDataset mnist downloaded and prepared to C:\\Users\\ryori\\tensorflow_datasets\\mnist\\3.0.1. Subsequent calls will reuse this data.\u001b[0m\n"
          ]
        }
      ],
      "source": [
        "import tensorflow as tf\n",
        "import tensorflow_datasets as tfds\n",
        "\n",
        "data = tfds.load('horses_or_humans', split='train[:90%]', as_supervised=True)\n",
        "val_data = tfds.load('horses_or_humans', split='test[:-10%]', as_supervised=True)\n",
        "combined = tfds.load('horses_or_humans', split='train+test', as_supervised=True)\n",
        "\n",
        "# Do k-fold split\n",
        "val_ds = tfds.load('mnist:3.*.*', split=[f'train[{k}%:{k+20}%]' for k in range(0, 100, 20)])\n",
        "traind_ds = tfds.load('mnist:3.*.*', split=[f'train[:{k}%]+train[{k+20}%:]' for k in range(0, 100, 20)])\n"
      ]
    },
    {
      "cell_type": "code",
      "execution_count": 5,
      "metadata": {
        "id": "Ni1_t7H0PVWI"
      },
      "outputs": [],
      "source": [
        "train_batches = data.shuffle(100).batch(32)\n",
        "validation_batches = val_data.batch(32)\n",
        "\n",
        "model = tf.keras.models.Sequential([\n",
        "    tf.keras.layers.Conv2D(16, (3,3), activation='relu', \n",
        "                                      input_shape=(300, 300, 3)),\n",
        "    tf.keras.layers.MaxPooling2D(2, 2),\n",
        "    tf.keras.layers.Conv2D(32, (3,3), activation='relu'),\n",
        "    tf.keras.layers.MaxPooling2D(2,2),\n",
        "    tf.keras.layers.Conv2D(64, (3,3), activation='relu'),\n",
        "    tf.keras.layers.MaxPooling2D(2,2),\n",
        "    tf.keras.layers.Conv2D(64, (3,3), activation='relu'),\n",
        "    tf.keras.layers.MaxPooling2D(2,2),\n",
        "    tf.keras.layers.Conv2D(64, (3,3), activation='relu'),\n",
        "    tf.keras.layers.MaxPooling2D(2,2),\n",
        "    tf.keras.layers.Flatten(),\n",
        "    tf.keras.layers.Dense(512, activation='relu'),\n",
        "    tf.keras.layers.Dense(1, activation='sigmoid')\n",
        "])\n",
        "\n",
        "\n",
        "model.compile(optimizer='Adam', loss='binary_crossentropy', metrics=['accuracy'])\n",
        "\n"
      ]
    },
    {
      "cell_type": "code",
      "execution_count": 6,
      "metadata": {
        "id": "Di3CWkVSPVWJ"
      },
      "outputs": [
        {
          "name": "stdout",
          "output_type": "stream",
          "text": [
            "Epoch 1/10\n",
            "33/33 [==============================] - 28s 781ms/step - loss: 10.9346 - accuracy: 0.6680 - val_loss: 0.9874 - val_accuracy: 0.7812\n",
            "Epoch 2/10\n",
            "33/33 [==============================] - 21s 647ms/step - loss: 0.1296 - accuracy: 0.9503 - val_loss: 0.7215 - val_accuracy: 0.8125\n",
            "Epoch 3/10\n",
            "33/33 [==============================] - 22s 656ms/step - loss: 0.1136 - accuracy: 0.9640 - val_loss: 0.2315 - val_accuracy: 0.9688\n",
            "Epoch 4/10\n",
            "33/33 [==============================] - 22s 675ms/step - loss: 0.0230 - accuracy: 0.9912 - val_loss: 0.7773 - val_accuracy: 0.8125\n",
            "Epoch 5/10\n",
            "33/33 [==============================] - 21s 645ms/step - loss: 0.0101 - accuracy: 0.9961 - val_loss: 0.2265 - val_accuracy: 0.9688\n",
            "Epoch 6/10\n",
            "33/33 [==============================] - 22s 660ms/step - loss: 0.0026 - accuracy: 1.0000 - val_loss: 0.8344 - val_accuracy: 0.8750\n",
            "Epoch 7/10\n",
            "33/33 [==============================] - 24s 728ms/step - loss: 6.8339e-04 - accuracy: 1.0000 - val_loss: 0.7516 - val_accuracy: 0.8750\n",
            "Epoch 8/10\n",
            "33/33 [==============================] - 24s 719ms/step - loss: 2.5229e-04 - accuracy: 1.0000 - val_loss: 0.6205 - val_accuracy: 0.9375\n",
            "Epoch 9/10\n",
            "33/33 [==============================] - 24s 706ms/step - loss: 1.4903e-04 - accuracy: 1.0000 - val_loss: 0.6685 - val_accuracy: 0.9375\n",
            "Epoch 10/10\n",
            "33/33 [==============================] - 21s 638ms/step - loss: 1.0502e-04 - accuracy: 1.0000 - val_loss: 0.6703 - val_accuracy: 0.9375\n"
          ]
        }
      ],
      "source": [
        "history = model.fit(train_batches, epochs=10, validation_data=validation_batches, validation_steps=1)"
      ]
    },
    {
      "cell_type": "code",
      "execution_count": null,
      "metadata": {
        "id": "HBOt70M1PVWJ"
      },
      "outputs": [],
      "source": []
    }
  ],
  "metadata": {
    "accelerator": "GPU",
    "colab": {
      "collapsed_sections": [],
      "include_colab_link": true,
      "name": "C3_W1_Lab_2_horses_or_humans.ipynb",
      "provenance": [],
      "toc_visible": true
    },
    "kernelspec": {
      "display_name": "Python 3",
      "language": "python",
      "name": "python3"
    },
    "language_info": {
      "codemirror_mode": {
        "name": "ipython",
        "version": 3
      },
      "file_extension": ".py",
      "mimetype": "text/x-python",
      "name": "python",
      "nbconvert_exporter": "python",
      "pygments_lexer": "ipython3",
      "version": "3.10.13"
    }
  },
  "nbformat": 4,
  "nbformat_minor": 0
}
