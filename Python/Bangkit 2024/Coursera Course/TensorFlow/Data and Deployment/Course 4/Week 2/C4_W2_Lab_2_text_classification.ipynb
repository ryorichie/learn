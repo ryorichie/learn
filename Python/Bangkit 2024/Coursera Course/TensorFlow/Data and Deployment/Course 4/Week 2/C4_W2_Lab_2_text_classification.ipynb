{
<<<<<<< HEAD
=======
  "nbformat": 4,
  "nbformat_minor": 0,
  "metadata": {
    "accelerator": "GPU",
    "colab": {
      "name": "C4_W2_Lab_2_text_classification.ipynb",
      "provenance": [],
      "collapsed_sections": [],
      "toc_visible": true,
      "include_colab_link": true
    },
    "kernelspec": {
      "display_name": "Python 3",
      "language": "python",
      "name": "python3"
    },
    "language_info": {
      "codemirror_mode": {
        "name": "ipython",
        "version": 3
      },
      "file_extension": ".py",
      "mimetype": "text/x-python",
      "name": "python",
      "nbconvert_exporter": "python",
      "pygments_lexer": "ipython3",
      "version": "3.8.5"
    }
  },
>>>>>>> e47a260e5f44e77a05e088a7d7135531e2191226
  "cells": [
    {
      "cell_type": "markdown",
      "metadata": {
<<<<<<< HEAD
        "colab_type": "text",
        "id": "view-in-github"
=======
        "id": "view-in-github",
        "colab_type": "text"
>>>>>>> e47a260e5f44e77a05e088a7d7135531e2191226
      },
      "source": [
        "<a href=\"https://colab.research.google.com/github/https-deeplearning-ai/tensorflow-2-public/blob/adding_C4/C4/W2/ungraded_labs/C4_W2_Lab_2_text_classification.ipynb\" target=\"_parent\"><img src=\"https://colab.research.google.com/assets/colab-badge.svg\" alt=\"Open In Colab\"/></a>"
      ]
    },
    {
      "cell_type": "code",
<<<<<<< HEAD
      "execution_count": 1,
      "metadata": {
        "id": "zX4Kg8DUTKWO"
      },
      "outputs": [],
=======
      "metadata": {
        "id": "zX4Kg8DUTKWO"
      },
>>>>>>> e47a260e5f44e77a05e088a7d7135531e2191226
      "source": [
        "#@title Licensed under the Apache License, Version 2.0 (the \"License\");\n",
        "# you may not use this file except in compliance with the License.\n",
        "# You may obtain a copy of the License at\n",
        "#\n",
        "# https://www.apache.org/licenses/LICENSE-2.0\n",
        "#\n",
        "# Unless required by applicable law or agreed to in writing, software\n",
        "# distributed under the License is distributed on an \"AS IS\" BASIS,\n",
        "# WITHOUT WARRANTIES OR CONDITIONS OF ANY KIND, either express or implied.\n",
        "# See the License for the specific language governing permissions and\n",
        "# limitations under the License."
<<<<<<< HEAD
      ]
=======
      ],
      "execution_count": null,
      "outputs": []
>>>>>>> e47a260e5f44e77a05e088a7d7135531e2191226
    },
    {
      "cell_type": "markdown",
      "metadata": {
        "id": "-N3Pz2T9mFZ-"
      },
      "source": [
        "##### Copyright 2019 The TensorFlow Authors."
      ]
    },
    {
      "cell_type": "code",
<<<<<<< HEAD
      "execution_count": 2,
=======
>>>>>>> e47a260e5f44e77a05e088a7d7135531e2191226
      "metadata": {
        "cellView": "form",
        "id": "5p90mFICmFK2"
      },
<<<<<<< HEAD
      "outputs": [],
=======
>>>>>>> e47a260e5f44e77a05e088a7d7135531e2191226
      "source": [
        "#@title Licensed under the Apache License, Version 2.0 (the \"License\");\n",
        "# you may not use this file except in compliance with the License.\n",
        "# You may obtain a copy of the License at\n",
        "#\n",
        "# https://www.apache.org/licenses/LICENSE-2.0\n",
        "#\n",
        "# Unless required by applicable law or agreed to in writing, software\n",
        "# distributed under the License is distributed on an \"AS IS\" BASIS,\n",
        "# WITHOUT WARRANTIES OR CONDITIONS OF ANY KIND, either express or implied.\n",
        "# See the License for the specific language governing permissions and\n",
        "# limitations under the License."
<<<<<<< HEAD
      ]
=======
      ],
      "execution_count": null,
      "outputs": []
>>>>>>> e47a260e5f44e77a05e088a7d7135531e2191226
    },
    {
      "cell_type": "markdown",
      "metadata": {
        "id": "0IMg_z16l_2Z"
      },
      "source": [
        "# Text Classification\n",
        "\n",
        "In this notebook we will classify movie reviews as being either `positive` or `negative`. We'll use the [IMDB dataset](https://www.tensorflow.org/datasets/catalog/imdb_reviews) that contains the text of 50,000 movie reviews from the [Internet Movie Database](https://www.imdb.com/). These are split into 25,000 reviews for training and 25,000 reviews for testing. The training and testing sets are *balanced*, meaning they contain an equal number of positive and negative reviews."
      ]
    },
    {
      "cell_type": "markdown",
      "metadata": {
        "id": "l3JBInnkl_2a"
      },
      "source": [
        "# Setup"
      ]
    },
    {
      "cell_type": "code",
<<<<<<< HEAD
      "execution_count": 3,
      "metadata": {
        "id": "02pc7RECl_2b"
      },
      "outputs": [],
=======
      "metadata": {
        "id": "02pc7RECl_2b"
      },
>>>>>>> e47a260e5f44e77a05e088a7d7135531e2191226
      "source": [
        "try:\n",
        "    %tensorflow_version 2.x\n",
        "except:\n",
        "    pass"
<<<<<<< HEAD
      ]
    },
    {
      "cell_type": "code",
      "execution_count": 4,
=======
      ],
      "execution_count": null,
      "outputs": []
    },
    {
      "cell_type": "code",
>>>>>>> e47a260e5f44e77a05e088a7d7135531e2191226
      "metadata": {
        "id": "-B-0zxxtwFQV",
        "scrolled": true
      },
<<<<<<< HEAD
      "outputs": [
        {
          "name": "stdout",
          "output_type": "stream",
          "text": [
            "WARNING:tensorflow:From c:\\ProgramData\\anaconda3\\envs\\env-name\\lib\\site-packages\\keras\\src\\losses.py:2976: The name tf.losses.sparse_softmax_cross_entropy is deprecated. Please use tf.compat.v1.losses.sparse_softmax_cross_entropy instead.\n",
            "\n"
          ]
        },
        {
          "name": "stderr",
          "output_type": "stream",
          "text": [
            "c:\\ProgramData\\anaconda3\\envs\\env-name\\lib\\site-packages\\tqdm\\auto.py:21: TqdmWarning: IProgress not found. Please update jupyter and ipywidgets. See https://ipywidgets.readthedocs.io/en/stable/user_install.html\n",
            "  from .autonotebook import tqdm as notebook_tqdm\n"
          ]
        },
        {
          "name": "stdout",
          "output_type": "stream",
          "text": [
            "• Using TensorFlow Version: 2.15.1\n"
          ]
        }
      ],
=======
>>>>>>> e47a260e5f44e77a05e088a7d7135531e2191226
      "source": [
        "import tensorflow as tf\n",
        "import tensorflow_hub as hub\n",
        "import tensorflow_datasets as tfds\n",
        "tfds.disable_progress_bar()\n",
        "\n",
        "print(\"\\u2022 Using TensorFlow Version:\", tf.__version__)"
<<<<<<< HEAD
      ]
=======
      ],
      "execution_count": null,
      "outputs": []
>>>>>>> e47a260e5f44e77a05e088a7d7135531e2191226
    },
    {
      "cell_type": "markdown",
      "metadata": {
        "id": "JBIRo8Xtl_2h"
      },
      "source": [
        "## Download the IMDB Dataset\n",
        "\n",
        "We will download the [IMDB dataset](https://www.tensorflow.org/datasets/catalog/imdb_reviews) using TensorFlow Datasets. We will use a training set, a validation set, and a test set. Since the IMDB dataset doesn't have a validation split, we will use the first 60\\% of the training set for training, and the last 40\\% of the training set for validation."
      ]
    },
    {
      "cell_type": "code",
<<<<<<< HEAD
      "execution_count": 5,
=======
>>>>>>> e47a260e5f44e77a05e088a7d7135531e2191226
      "metadata": {
        "id": "gfnt5ibsl_2i",
        "scrolled": false
      },
<<<<<<< HEAD
      "outputs": [],
=======
>>>>>>> e47a260e5f44e77a05e088a7d7135531e2191226
      "source": [
        "splits = ['train[:60%]', 'train[-40%:]', 'test']\n",
        "\n",
        "splits, info = tfds.load(name=\"imdb_reviews\", with_info=True, split=splits, as_supervised=True)\n",
        "\n",
        "train_data, validation_data, test_data = splits"
<<<<<<< HEAD
      ]
=======
      ],
      "execution_count": null,
      "outputs": []
>>>>>>> e47a260e5f44e77a05e088a7d7135531e2191226
    },
    {
      "cell_type": "markdown",
      "metadata": {
        "id": "PbbsJKch1lL5"
      },
      "source": [
        "## Explore the Data \n",
        "\n",
        "Let's take a moment to look at the data."
      ]
    },
    {
      "cell_type": "code",
<<<<<<< HEAD
      "execution_count": 6,
      "metadata": {
        "id": "3gh4Taekl_2k"
      },
      "outputs": [
        {
          "name": "stdout",
          "output_type": "stream",
          "text": [
            "The Dataset has a total of:\n",
            "• 2 classes\n",
            "• 25,000 movie reviews for training\n",
            "• 25,000 movie reviews for testing\n"
          ]
        }
      ],
=======
      "metadata": {
        "id": "3gh4Taekl_2k"
      },
>>>>>>> e47a260e5f44e77a05e088a7d7135531e2191226
      "source": [
        "num_train_examples = info.splits['train'].num_examples\n",
        "num_test_examples = info.splits['test'].num_examples\n",
        "num_classes = info.features['label'].num_classes\n",
        "\n",
        "print('The Dataset has a total of:')\n",
        "print('\\u2022 {:,} classes'.format(num_classes))\n",
        "\n",
        "print('\\u2022 {:,} movie reviews for training'.format(num_train_examples))\n",
        "print('\\u2022 {:,} movie reviews for testing'.format(num_test_examples))"
<<<<<<< HEAD
      ]
=======
      ],
      "execution_count": null,
      "outputs": []
>>>>>>> e47a260e5f44e77a05e088a7d7135531e2191226
    },
    {
      "cell_type": "markdown",
      "metadata": {
        "id": "SIyvvYFF2DXz"
      },
      "source": [
        "The labels are either 0 or 1, where 0 is a negative review, and 1 is a positive review. We will create a list with the corresponding class names, so that we can map labels to class names later on."
      ]
    },
    {
      "cell_type": "code",
<<<<<<< HEAD
      "execution_count": 7,
      "metadata": {
        "id": "1SAGQKTdl_2n"
      },
      "outputs": [],
      "source": [
        "class_names = ['negative', 'positive']"
      ]
=======
      "metadata": {
        "id": "1SAGQKTdl_2n"
      },
      "source": [
        "class_names = ['negative', 'positive']"
      ],
      "execution_count": null,
      "outputs": []
>>>>>>> e47a260e5f44e77a05e088a7d7135531e2191226
    },
    {
      "cell_type": "markdown",
      "metadata": {
        "id": "wrLs9vQr16JH"
      },
      "source": [
        "Each example consists of a sentence representing the movie review and a corresponding label. The sentence is not preprocessed in any way. Let's take a look at the first example of the training set.  "
      ]
    },
    {
      "cell_type": "code",
<<<<<<< HEAD
      "execution_count": 8,
      "metadata": {
        "id": "u6lqHTTzl_2q"
      },
      "outputs": [
        {
          "name": "stdout",
          "output_type": "stream",
          "text": [
            "\n",
            "Movie Review:\n",
            "\n",
            " b\"This was an absolutely terrible movie. Don't be lured in by Christopher Walken or Michael Ironside. Both are great actors, but this must simply be their worst role in history. Even their great acting could not redeem this movie's ridiculous storyline. This movie is an early nineties US propaganda piece. The most pathetic scenes were those when the Columbian rebels were making their cases for revolutions. Maria Conchita Alonso appeared phony, and her pseudo-love affair with Walken was nothing but a pathetic emotional plug in a movie that was devoid of any real meaning. I am disappointed that there are movies like this, ruining actor's like Christopher Walken's good name. I could barely sit through it.\"\n",
            "\n",
            "Label: negative\n"
          ]
        }
      ],
=======
      "metadata": {
        "id": "u6lqHTTzl_2q"
      },
>>>>>>> e47a260e5f44e77a05e088a7d7135531e2191226
      "source": [
        "for review, label in train_data.take(1):\n",
        "    review = review.numpy()\n",
        "    label = label.numpy()\n",
        "\n",
        "    print('\\nMovie Review:\\n\\n', review)\n",
        "    print('\\nLabel:', class_names[label])"
<<<<<<< HEAD
      ]
=======
      ],
      "execution_count": null,
      "outputs": []
>>>>>>> e47a260e5f44e77a05e088a7d7135531e2191226
    },
    {
      "cell_type": "markdown",
      "metadata": {
        "id": "_Tam__wal_2s"
      },
      "source": [
        "## Load Word Embeddings\n",
        "\n",
        "In this example, the input data consists of sentences. The labels to predict are either 0 or 1.\n",
        "\n",
        "One way to represent the text is to convert sentences into word embeddings. Word embeddings, are an efficient way to represent words using dense vectors, where semantically similar words have similar vectors. We can use a pre-trained text embedding as the first layer of our model, which will have two advantages:\n",
        "\n",
        "*   We don't have to worry anout text preprocessing.\n",
        "*   We can benefit from transfer learning.\n",
        "\n",
        "For this example we will use a model from [TensorFlow Hub](https://tfhub.dev/) called [google/tf2-preview/gnews-swivel-20dim/1](https://tfhub.dev/google/tf2-preview/gnews-swivel-20dim/1). We'll create a `hub.KerasLayer` that uses the TensorFlow Hub model to embed the sentences. We can choose to fine-tune the TF hub module weights during training by setting the `trainable` parameter to `True`."
      ]
    },
    {
      "cell_type": "code",
<<<<<<< HEAD
      "execution_count": 9,
      "metadata": {
        "id": "wbYukNNs2y7H"
      },
      "outputs": [
        {
          "name": "stdout",
          "output_type": "stream",
          "text": [
            "WARNING:tensorflow:From C:\\Users\\ryori\\AppData\\Roaming\\Python\\Python310\\site-packages\\tensorflow_hub\\resolver.py:120: The name tf.gfile.MakeDirs is deprecated. Please use tf.io.gfile.makedirs instead.\n",
            "\n"
          ]
        },
        {
          "name": "stderr",
          "output_type": "stream",
          "text": [
            "WARNING:tensorflow:From C:\\Users\\ryori\\AppData\\Roaming\\Python\\Python310\\site-packages\\tensorflow_hub\\resolver.py:120: The name tf.gfile.MakeDirs is deprecated. Please use tf.io.gfile.makedirs instead.\n",
            "\n"
          ]
        },
        {
          "name": "stdout",
          "output_type": "stream",
          "text": [
            "WARNING:tensorflow:From C:\\Users\\ryori\\AppData\\Roaming\\Python\\Python310\\site-packages\\tensorflow_hub\\module_v2.py:126: The name tf.saved_model.load_v2 is deprecated. Please use tf.compat.v2.saved_model.load instead.\n",
            "\n"
          ]
        },
        {
          "name": "stderr",
          "output_type": "stream",
          "text": [
            "WARNING:tensorflow:From C:\\Users\\ryori\\AppData\\Roaming\\Python\\Python310\\site-packages\\tensorflow_hub\\module_v2.py:126: The name tf.saved_model.load_v2 is deprecated. Please use tf.compat.v2.saved_model.load instead.\n",
            "\n"
          ]
        },
        {
          "name": "stdout",
          "output_type": "stream",
          "text": [
            "WARNING:tensorflow:From c:\\ProgramData\\anaconda3\\envs\\env-name\\lib\\site-packages\\keras\\src\\backend.py:873: The name tf.get_default_graph is deprecated. Please use tf.compat.v1.get_default_graph instead.\n",
            "\n"
          ]
        },
        {
          "name": "stderr",
          "output_type": "stream",
          "text": [
            "WARNING:tensorflow:From c:\\ProgramData\\anaconda3\\envs\\env-name\\lib\\site-packages\\keras\\src\\backend.py:873: The name tf.get_default_graph is deprecated. Please use tf.compat.v1.get_default_graph instead.\n",
            "\n"
          ]
        }
      ],
=======
      "metadata": {
        "id": "wbYukNNs2y7H"
      },
>>>>>>> e47a260e5f44e77a05e088a7d7135531e2191226
      "source": [
        "# if you are running the notebook on Colab\n",
        "embedding = \"https://tfhub.dev/google/tf2-preview/gnews-swivel-20dim/1\"\n",
        "\n",
        "# # if you are running the notebook on your local machine\n",
        "# embedding = \"./models/tf2-preview_gnews-swivel-20dim_1\"\n",
        "\n",
        "hub_layer = hub.KerasLayer(embedding, input_shape=[], dtype=tf.string, trainable=True)"
<<<<<<< HEAD
      ]
=======
      ],
      "execution_count": null,
      "outputs": []
>>>>>>> e47a260e5f44e77a05e088a7d7135531e2191226
    },
    {
      "cell_type": "markdown",
      "metadata": {
        "id": "P6V9WM7Gl_2v"
      },
      "source": [
        "## Build Pipeline"
      ]
    },
    {
      "cell_type": "code",
<<<<<<< HEAD
      "execution_count": 10,
      "metadata": {
        "id": "IK1a7HTYl_2w"
      },
      "outputs": [],
=======
      "metadata": {
        "id": "IK1a7HTYl_2w"
      },
>>>>>>> e47a260e5f44e77a05e088a7d7135531e2191226
      "source": [
        "batch_size = 512\n",
        "\n",
        "train_batches = train_data.shuffle(num_train_examples // 4).batch(batch_size).prefetch(1)\n",
        "validation_batches = validation_data.batch(batch_size).prefetch(1)\n",
        "test_batches = test_data.batch(batch_size)"
<<<<<<< HEAD
      ]
=======
      ],
      "execution_count": null,
      "outputs": []
>>>>>>> e47a260e5f44e77a05e088a7d7135531e2191226
    },
    {
      "cell_type": "markdown",
      "metadata": {
        "id": "vJ8uZcqOl_2y"
      },
      "source": [
        "## Build the Model\n",
        "\n",
        "In the code below we will build a Keras `Sequential` model with the following layers:\n",
        "\n",
        "1. The first layer is a TensorFlow Hub layer. This layer uses a pre-trained SavedModel to map a sentence into its embedding vector. The model that we are using ([google/tf2-preview/gnews-swivel-20dim/1](https://tfhub.dev/google/tf2-preview/gnews-swivel-20dim/1)) splits the sentence into tokens, embeds each token and then combines the embedding. The resulting dimensions are: `(num_examples, embedding_dimension)`.\n",
        "\n",
        "\n",
        "2. This fixed-length output vector is piped through a fully-connected (`Dense`) layer with 16 hidden units.\n",
        "\n",
        "\n",
        "3. The last layer is densely connected with a single output node. Using the `sigmoid` activation function, this value is a float between 0 and 1, representing a probability, or confidence level."
      ]
    },
    {
      "cell_type": "code",
<<<<<<< HEAD
      "execution_count": 11,
      "metadata": {
        "id": "2mvUjhw02y9-"
      },
      "outputs": [],
=======
      "metadata": {
        "id": "2mvUjhw02y9-"
      },
>>>>>>> e47a260e5f44e77a05e088a7d7135531e2191226
      "source": [
        "model = tf.keras.Sequential([\n",
        "        hub_layer,\n",
        "        tf.keras.layers.Dense(16, activation='relu'),\n",
        "        tf.keras.layers.Dense(1, activation='sigmoid')])"
<<<<<<< HEAD
      ]
=======
      ],
      "execution_count": null,
      "outputs": []
>>>>>>> e47a260e5f44e77a05e088a7d7135531e2191226
    },
    {
      "cell_type": "markdown",
      "metadata": {
        "id": "K-kJSvK57S5F"
      },
      "source": [
        "## Train the Model\n",
        "\n",
        "Since this is a binary classification problem and the model outputs a probability (a single-unit layer with a sigmoid activation), we'll use the `binary_crossentropy` loss function. "
      ]
    },
    {
      "cell_type": "code",
<<<<<<< HEAD
      "execution_count": 12,
      "metadata": {
        "id": "3S8wWDol2zBP"
      },
      "outputs": [
        {
          "name": "stdout",
          "output_type": "stream",
          "text": [
            "WARNING:tensorflow:From c:\\ProgramData\\anaconda3\\envs\\env-name\\lib\\site-packages\\keras\\src\\optimizers\\__init__.py:309: The name tf.train.Optimizer is deprecated. Please use tf.compat.v1.train.Optimizer instead.\n",
            "\n"
          ]
        },
        {
          "name": "stderr",
          "output_type": "stream",
          "text": [
            "WARNING:tensorflow:From c:\\ProgramData\\anaconda3\\envs\\env-name\\lib\\site-packages\\keras\\src\\optimizers\\__init__.py:309: The name tf.train.Optimizer is deprecated. Please use tf.compat.v1.train.Optimizer instead.\n",
            "\n"
          ]
        },
        {
          "name": "stdout",
          "output_type": "stream",
          "text": [
            "Epoch 1/20\n",
            "WARNING:tensorflow:From c:\\ProgramData\\anaconda3\\envs\\env-name\\lib\\site-packages\\keras\\src\\utils\\tf_utils.py:492: The name tf.ragged.RaggedTensorValue is deprecated. Please use tf.compat.v1.ragged.RaggedTensorValue instead.\n",
            "\n"
          ]
        },
        {
          "name": "stderr",
          "output_type": "stream",
          "text": [
            "WARNING:tensorflow:From c:\\ProgramData\\anaconda3\\envs\\env-name\\lib\\site-packages\\keras\\src\\utils\\tf_utils.py:492: The name tf.ragged.RaggedTensorValue is deprecated. Please use tf.compat.v1.ragged.RaggedTensorValue instead.\n",
            "\n"
          ]
        },
        {
          "name": "stdout",
          "output_type": "stream",
          "text": [
            "WARNING:tensorflow:From c:\\ProgramData\\anaconda3\\envs\\env-name\\lib\\site-packages\\keras\\src\\engine\\base_layer_utils.py:384: The name tf.executing_eagerly_outside_functions is deprecated. Please use tf.compat.v1.executing_eagerly_outside_functions instead.\n",
            "\n"
          ]
        },
        {
          "name": "stderr",
          "output_type": "stream",
          "text": [
            "WARNING:tensorflow:From c:\\ProgramData\\anaconda3\\envs\\env-name\\lib\\site-packages\\keras\\src\\engine\\base_layer_utils.py:384: The name tf.executing_eagerly_outside_functions is deprecated. Please use tf.compat.v1.executing_eagerly_outside_functions instead.\n",
            "\n"
          ]
        },
        {
          "name": "stdout",
          "output_type": "stream",
          "text": [
            "30/30 [==============================] - 4s 73ms/step - loss: 1.6866 - accuracy: 0.4399 - val_loss: 1.0376 - val_accuracy: 0.4618\n",
            "Epoch 2/20\n",
            "30/30 [==============================] - 3s 115ms/step - loss: 0.8996 - accuracy: 0.4733 - val_loss: 0.7787 - val_accuracy: 0.5147\n",
            "Epoch 3/20\n",
            "30/30 [==============================] - 2s 65ms/step - loss: 0.7008 - accuracy: 0.5830 - val_loss: 0.6507 - val_accuracy: 0.6332\n",
            "Epoch 4/20\n",
            "30/30 [==============================] - 2s 62ms/step - loss: 0.6155 - accuracy: 0.6710 - val_loss: 0.5989 - val_accuracy: 0.6824\n",
            "Epoch 5/20\n",
            "30/30 [==============================] - 2s 59ms/step - loss: 0.5712 - accuracy: 0.7093 - val_loss: 0.5641 - val_accuracy: 0.7121\n",
            "Epoch 6/20\n",
            "30/30 [==============================] - 4s 130ms/step - loss: 0.5354 - accuracy: 0.7375 - val_loss: 0.5333 - val_accuracy: 0.7362\n",
            "Epoch 7/20\n",
            "30/30 [==============================] - 2s 59ms/step - loss: 0.4989 - accuracy: 0.7637 - val_loss: 0.4987 - val_accuracy: 0.7642\n",
            "Epoch 8/20\n",
            "30/30 [==============================] - 2s 63ms/step - loss: 0.4647 - accuracy: 0.7877 - val_loss: 0.4729 - val_accuracy: 0.7835\n",
            "Epoch 9/20\n",
            "30/30 [==============================] - 2s 64ms/step - loss: 0.4345 - accuracy: 0.8077 - val_loss: 0.4482 - val_accuracy: 0.8009\n",
            "Epoch 10/20\n",
            "30/30 [==============================] - 2s 82ms/step - loss: 0.4055 - accuracy: 0.8259 - val_loss: 0.4268 - val_accuracy: 0.8123\n",
            "Epoch 11/20\n",
            "30/30 [==============================] - 4s 65ms/step - loss: 0.3786 - accuracy: 0.8429 - val_loss: 0.4082 - val_accuracy: 0.8200\n",
            "Epoch 12/20\n",
            "30/30 [==============================] - 2s 60ms/step - loss: 0.3529 - accuracy: 0.8547 - val_loss: 0.3912 - val_accuracy: 0.8281\n",
            "Epoch 13/20\n",
            "30/30 [==============================] - 2s 58ms/step - loss: 0.3290 - accuracy: 0.8688 - val_loss: 0.3767 - val_accuracy: 0.8337\n",
            "Epoch 14/20\n",
            "30/30 [==============================] - 2s 57ms/step - loss: 0.3070 - accuracy: 0.8809 - val_loss: 0.3641 - val_accuracy: 0.8394\n",
            "Epoch 15/20\n",
            "30/30 [==============================] - 2s 58ms/step - loss: 0.2877 - accuracy: 0.8897 - val_loss: 0.3528 - val_accuracy: 0.8449\n",
            "Epoch 16/20\n",
            "30/30 [==============================] - 2s 58ms/step - loss: 0.2688 - accuracy: 0.8981 - val_loss: 0.3438 - val_accuracy: 0.8497\n",
            "Epoch 17/20\n",
            "30/30 [==============================] - 2s 58ms/step - loss: 0.2519 - accuracy: 0.9058 - val_loss: 0.3362 - val_accuracy: 0.8521\n",
            "Epoch 18/20\n",
            "30/30 [==============================] - 2s 71ms/step - loss: 0.2365 - accuracy: 0.9122 - val_loss: 0.3293 - val_accuracy: 0.8569\n",
            "Epoch 19/20\n",
            "30/30 [==============================] - 5s 118ms/step - loss: 0.2223 - accuracy: 0.9181 - val_loss: 0.3250 - val_accuracy: 0.8586\n",
            "Epoch 20/20\n",
            "30/30 [==============================] - 2s 58ms/step - loss: 0.2089 - accuracy: 0.9253 - val_loss: 0.3198 - val_accuracy: 0.8623\n"
          ]
        }
      ],
=======
      "metadata": {
        "id": "3S8wWDol2zBP"
      },
>>>>>>> e47a260e5f44e77a05e088a7d7135531e2191226
      "source": [
        "model.compile(optimizer='adam',\n",
        "              loss='binary_crossentropy',\n",
        "              metrics=['accuracy'])\n",
        "\n",
        "history = model.fit(train_batches,\n",
        "                    epochs=20,\n",
        "                    validation_data=validation_batches)"
<<<<<<< HEAD
      ]
=======
      ],
      "execution_count": null,
      "outputs": []
>>>>>>> e47a260e5f44e77a05e088a7d7135531e2191226
    },
    {
      "cell_type": "markdown",
      "metadata": {
        "id": "MyORnj-u8F_j"
      },
      "source": [
        "## Evaluate the Model\n",
        "\n",
        "We will now see how well our model performs on the testing set."
      ]
    },
    {
      "cell_type": "code",
<<<<<<< HEAD
      "execution_count": 13,
      "metadata": {
        "id": "Ch6hq1_kl_23"
      },
      "outputs": [
        {
          "name": "stdout",
          "output_type": "stream",
          "text": [
            "loss: 0.336\n",
            "accuracy: 0.857\n"
          ]
        }
      ],
=======
      "metadata": {
        "id": "Ch6hq1_kl_23"
      },
>>>>>>> e47a260e5f44e77a05e088a7d7135531e2191226
      "source": [
        "eval_results = model.evaluate(test_batches, verbose=0)\n",
        "\n",
        "for metric, value in zip(model.metrics_names, eval_results):\n",
        "    print(metric + ': {:.3}'.format(value))"
<<<<<<< HEAD
      ]
    }
  ],
  "metadata": {
    "accelerator": "GPU",
    "colab": {
      "collapsed_sections": [],
      "include_colab_link": true,
      "name": "C4_W2_Lab_2_text_classification.ipynb",
      "provenance": [],
      "toc_visible": true
    },
    "kernelspec": {
      "display_name": "Python 3",
      "language": "python",
      "name": "python3"
    },
    "language_info": {
      "codemirror_mode": {
        "name": "ipython",
        "version": 3
      },
      "file_extension": ".py",
      "mimetype": "text/x-python",
      "name": "python",
      "nbconvert_exporter": "python",
      "pygments_lexer": "ipython3",
      "version": "3.10.13"
    }
  },
  "nbformat": 4,
  "nbformat_minor": 0
}
=======
      ],
      "execution_count": null,
      "outputs": []
    }
  ]
}
>>>>>>> e47a260e5f44e77a05e088a7d7135531e2191226
