{
 "cells": [
  {
   "cell_type": "markdown",
   "metadata": {
    "colab_type": "text",
    "id": "ALCxPdSdX3NU"
   },
   "source": [
    "# Exporting an MNIST Classifier in SavedModel Format\n",
    "\n",
    "In this exercise, we will learn on how to create models for TensorFlow Hub. You will be tasked with performing the following tasks:\n",
    "\n",
    "*   Creating a simple MNIST classifier and evaluating its accuracy.\n",
    "*   Exporting it into SavedModel.\n",
    "*   Hosting the model as TF Hub Module.\n",
    "*   Importing this TF Hub Module to be used with Keras Layers."
   ]
  },
  {
   "cell_type": "code",
   "execution_count": 1,
   "metadata": {
    "colab": {},
    "colab_type": "code",
    "id": "swaA66rjiRTd"
   },
   "outputs": [],
   "source": [
    "import numpy as np\n",
    "import tensorflow as tf\n",
    "import tensorflow_hub as hub\n",
    "import tensorflow_datasets as tfds\n",
    "\n",
    "from os import getcwd\n",
    "from absl import logging\n",
    "logging.set_verbosity(logging.ERROR)"
   ]
  },
  {
   "cell_type": "markdown",
   "metadata": {
    "colab_type": "text",
    "id": "UMZdLgyN7gby"
   },
   "source": [
    "## Create an MNIST Classifier\n",
    "\n",
    "We will start by creating a class called `MNIST`. This class will load the MNIST dataset, preprocess the images from the dataset, and build a CNN based classifier. This class will also have some methods to train, test, and save our model. \n",
    "\n",
    "In the cell below, fill in the missing code and create the following Keras `Sequential` model:\n",
    "\n",
    "```\n",
    "    Model: \"sequential\"\n",
    "    _________________________________________________________________\n",
    "    Layer (type)                 Output Shape              Param #   \n",
    "    =================================================================\n",
    "    lambda (Lambda)              (None, 28, 28, 1)         0         \n",
    "    _________________________________________________________________\n",
    "    conv2d (Conv2D)              (None, 28, 28, 8)         80        \n",
    "    _________________________________________________________________\n",
    "    max_pooling2d (MaxPooling2D) (None, 14, 14, 8)         0         \n",
    "    _________________________________________________________________\n",
    "    conv2d_1 (Conv2D)            (None, 14, 14, 16)        1168      \n",
    "    _________________________________________________________________\n",
    "    max_pooling2d_1 (MaxPooling2 (None, 7, 7, 16)          0         \n",
    "    _________________________________________________________________\n",
    "    conv2d_2 (Conv2D)            (None, 7, 7, 32)          4640      \n",
    "    _________________________________________________________________\n",
    "    flatten (Flatten)            (None, 1568)              0         \n",
    "    _________________________________________________________________\n",
    "    dense (Dense)                (None, 128)               200832    \n",
    "    _________________________________________________________________\n",
    "    dense_1 (Dense)              (None, 10)                1290      \n",
    "    =================================================================\n",
    "\n",
    "```\n",
    "\n",
    "Notice that we are using a ` tf.keras.layers.Lambda` layer at the beginning of our model. `Lambda` layers are used to wrap arbitrary expressions as a `Layer` object:\n",
    "\n",
    "```python\n",
    "tf.keras.layers.Lambda(expression)\n",
    "```\n",
    "\n",
    "The `Lambda` layer exists so that arbitrary TensorFlow functions can be used when constructing `Sequential` and Functional API models. `Lambda` layers are best suited for simple operations. "
   ]
  },
  {
   "cell_type": "code",
   "execution_count": 40,
   "metadata": {},
   "outputs": [],
   "source": [
    "class MNIST:\n",
    "    def __init__(self, export_path, buffer_size=1000, batch_size=32,\n",
    "                 learning_rate=1e-3, epochs=10):\n",
    "        self._export_path = export_path\n",
    "        self._buffer_size = buffer_size\n",
    "        self._batch_size = batch_size\n",
    "        self._learning_rate = learning_rate\n",
    "        self._epochs = epochs\n",
    "    \n",
    "        self._build_model()\n",
    "        self.train_dataset, self.test_dataset = self._prepare_dataset()\n",
    "    \n",
    "    # Function to preprocess the images.\n",
    "    def preprocess_fn(self, x):\n",
    "        \n",
    "        # EXERCISE: Cast x to tf.float32 using the tf.cast() function.\n",
    "        # You should also normalize the values of x to be in the range [0, 1].\n",
    "        x = tf.cast(x, dtype=tf.float32)/255.0\n",
    "            \n",
    "        return x\n",
    "        \n",
    "    def _build_model(self):\n",
    "        \n",
    "        # EXERCISE: Build the model according to the model summary shown above.\n",
    "        self._model = tf.keras.models.Sequential([\n",
    "            tf.keras.layers.Input(shape=(28, 28, 1), dtype=tf.uint8),\n",
    "            \n",
    "            # Use a Lambda layer to use the self.preprocess_fn function\n",
    "            # defined above to preprocess the images.\n",
    "            tf.keras.layers.Lambda(lambda x: self.preprocess_fn(x)),\n",
    "            \n",
    "            # Create a Conv2D layer with 8 filters, a kernel size of 3\n",
    "            # and padding='same'.\n",
    "            tf.keras.layers.Conv2D(3, (3,3), padding='same'),\n",
    "            \n",
    "            # Create a MaxPool2D() layer. Use default values.\n",
    "            tf.keras.layers.MaxPool2D(),\n",
    "            \n",
    "            # Create a Conv2D layer with 16 filters, a kernel size of 3\n",
    "            # and padding='same'.\n",
    "            tf.keras.layers.Conv2D(16, (3,3), padding='same'),\n",
    "            \n",
    "            # Create a MaxPool2D() layer. Use default values.\n",
    "            tf.keras.layers.MaxPool2D(),\n",
    "            \n",
    "            # Create a Conv2D layer with 32 filters, a kernel size of 3\n",
    "            # and padding='same'.\n",
    "            tf.keras.layers.Conv2D(32, (3,3), padding='same'),\n",
    "            \n",
    "            # Create the Flatten and Dense layers as described in the \n",
    "            # model summary shown above.\n",
    "            tf.keras.layers.Flatten(),\n",
    "            tf.keras.layers.Dense(128, activation='relu'),\n",
    "            tf.keras.layers.Dense(10, activation='softmax'),\n",
    "\n",
    "        ])\n",
    "        \n",
    "        # EXERCISE: Define the optimizer, loss function and metrics.\n",
    "        \n",
    "        # Use the tf.keras.optimizers.Adam optimizer and set the\n",
    "        # learning rate to self._learning_rate.\n",
    "        optimizer_fn =tf.keras.optimizers.Adam(learning_rate = self._learning_rate)\n",
    "        \n",
    "        # Use sparse_categorical_crossentropy as your loss function.\n",
    "        loss_fn = 'sparse_categorical_crossentropy'\n",
    "        \n",
    "        # Set the metrics to accuracy.\n",
    "        metrics_list = ['accuracy']\n",
    "     \n",
    "        # Compile the model.\n",
    "        self._model.compile(optimizer_fn, loss=loss_fn, metrics=metrics_list)\n",
    "        \n",
    "    def _prepare_dataset(self):\n",
    "        \n",
    "        filePath = f\"{getcwd()}/../tmp2\"\n",
    "        \n",
    "        # EXERCISE: Load the MNIST dataset using tfds.load(). Make sure to use\n",
    "        # the argument data_dir=filePath. You should load the images as well\n",
    "        # as their corresponding labels and load both the test and train splits.\n",
    "        dataset = tfds.load('mnist', data_dir=filePath, split=['train', 'test'])\n",
    "        \n",
    "        # EXERCISE: Extract the 'train' and 'test' splits from the dataset above.\n",
    "        train_dataset, test_dataset = dataset\n",
    "        \n",
    "        return train_dataset, test_dataset\n",
    "    \n",
    "    def train(self):\n",
    "        \n",
    "        # EXERCISE: Shuffle and batch the self.train_dataset. Use self._buffer_size\n",
    "        # as the shuffling buffer and self._batch_size as the batch size for batching. \n",
    "        dataset_tr = self.train_dataset.shuffle(self._buffer_size).batch(self._batch_size)\n",
    "        \n",
    "        # Train the model for specified number of epochs.\n",
    "        self._model.fit(dataset_tr, epochs=self._epochs)\n",
    "        \n",
    "    def test(self):\n",
    "        \n",
    "        # EXERCISE: Batch the self.test_dataset. Use a batch size of 32.\n",
    "        dataset_te = self.test_dataset.batch(32)\n",
    "        \n",
    "        # Evaluate the dataset\n",
    "        results = self._model.evaluate(dataset_te)\n",
    "    \n",
    "        # Print the metric values on which the model is being evaluated on.\n",
    "        for name, value in zip(self._model.metrics_names, results):\n",
    "            print(\"%s: %.3f\" % (name, value))\n",
    "            \n",
    "    def export_model(self):\n",
    "        # Save the model.\n",
    "        tf.saved_model.save(self._model, self._export_path)"
   ]
  },
  {
   "cell_type": "markdown",
   "metadata": {
    "colab_type": "text",
    "id": "-dDAjgDe7lp4"
   },
   "source": [
    "## Train, Evaluate, and Save the Model\n",
    "\n",
    "We will now use the `MNIST` class we created above to create an `mnist` object. When creating our `mnist` object we will use a dictionary to pass our training parameters. We will then call the `train` and `export_model` methods to train and save our model, respectively. Finally, we call the `test` method to evaluate our model after training. \n",
    "\n",
    "**NOTE:** It will take about 12 minutes to train the model for 5 epochs."
   ]
  },
  {
   "cell_type": "code",
   "execution_count": 41,
   "metadata": {
    "colab": {
     "base_uri": "https://localhost:8080/",
     "height": 287
    },
    "colab_type": "code",
    "id": "w6Ba6ileois3",
    "outputId": "a280b504-6619-4a1e-c020-6c787b5b76b4"
   },
   "outputs": [
    {
     "name": "stdout",
     "output_type": "stream",
     "text": [
      "Epoch 1/5\n"
     ]
    },
    {
     "ename": "ValueError",
     "evalue": "in user code:\n\n    File \"/usr/local/lib/python3.8/dist-packages/keras/engine/training.py\", line 1051, in train_function  *\n        return step_function(self, iterator)\n    File \"/usr/local/lib/python3.8/dist-packages/keras/engine/training.py\", line 1040, in step_function  **\n        outputs = model.distribute_strategy.run(run_step, args=(data,))\n    File \"/usr/local/lib/python3.8/dist-packages/keras/engine/training.py\", line 1030, in run_step  **\n        outputs = model.train_step(data)\n    File \"/usr/local/lib/python3.8/dist-packages/keras/engine/training.py\", line 889, in train_step\n        y_pred = self(x, training=True)\n    File \"/usr/local/lib/python3.8/dist-packages/keras/utils/traceback_utils.py\", line 67, in error_handler\n        raise e.with_traceback(filtered_tb) from None\n    File \"/usr/local/lib/python3.8/dist-packages/keras/engine/input_spec.py\", line 183, in assert_input_compatibility\n        raise ValueError(f'Missing data for input \"{name}\". '\n\n    ValueError: Missing data for input \"input_18\". You passed a data dictionary with keys ['image', 'label']. Expected the following keys: ['input_18']\n",
     "output_type": "error",
     "traceback": [
      "\u001b[0;31m---------------------------------------------------------------------------\u001b[0m",
      "\u001b[0;31mValueError\u001b[0m                                Traceback (most recent call last)",
      "Input \u001b[0;32mIn [41]\u001b[0m, in \u001b[0;36m<cell line: 16>\u001b[0;34m()\u001b[0m\n\u001b[1;32m     13\u001b[0m mnist \u001b[38;5;241m=\u001b[39m MNIST(\u001b[38;5;241m*\u001b[39m\u001b[38;5;241m*\u001b[39margs)\n\u001b[1;32m     15\u001b[0m \u001b[38;5;66;03m# Train the model.\u001b[39;00m\n\u001b[0;32m---> 16\u001b[0m \u001b[43mmnist\u001b[49m\u001b[38;5;241;43m.\u001b[39;49m\u001b[43mtrain\u001b[49m\u001b[43m(\u001b[49m\u001b[43m)\u001b[49m\n\u001b[1;32m     18\u001b[0m \u001b[38;5;66;03m# Save the model.\u001b[39;00m\n\u001b[1;32m     19\u001b[0m mnist\u001b[38;5;241m.\u001b[39mexport_model()\n",
      "Input \u001b[0;32mIn [40]\u001b[0m, in \u001b[0;36mMNIST.train\u001b[0;34m(self)\u001b[0m\n\u001b[1;32m     91\u001b[0m dataset_tr \u001b[38;5;241m=\u001b[39m \u001b[38;5;28mself\u001b[39m\u001b[38;5;241m.\u001b[39mtrain_dataset\u001b[38;5;241m.\u001b[39mshuffle(\u001b[38;5;28mself\u001b[39m\u001b[38;5;241m.\u001b[39m_buffer_size)\u001b[38;5;241m.\u001b[39mbatch(\u001b[38;5;28mself\u001b[39m\u001b[38;5;241m.\u001b[39m_batch_size)\n\u001b[1;32m     93\u001b[0m \u001b[38;5;66;03m# Train the model for specified number of epochs.\u001b[39;00m\n\u001b[0;32m---> 94\u001b[0m \u001b[38;5;28;43mself\u001b[39;49m\u001b[38;5;241;43m.\u001b[39;49m\u001b[43m_model\u001b[49m\u001b[38;5;241;43m.\u001b[39;49m\u001b[43mfit\u001b[49m\u001b[43m(\u001b[49m\u001b[43mdataset_tr\u001b[49m\u001b[43m,\u001b[49m\u001b[43m \u001b[49m\u001b[43mepochs\u001b[49m\u001b[38;5;241;43m=\u001b[39;49m\u001b[38;5;28;43mself\u001b[39;49m\u001b[38;5;241;43m.\u001b[39;49m\u001b[43m_epochs\u001b[49m\u001b[43m)\u001b[49m\n",
      "File \u001b[0;32m/usr/local/lib/python3.8/dist-packages/keras/utils/traceback_utils.py:67\u001b[0m, in \u001b[0;36mfilter_traceback.<locals>.error_handler\u001b[0;34m(*args, **kwargs)\u001b[0m\n\u001b[1;32m     65\u001b[0m \u001b[38;5;28;01mexcept\u001b[39;00m \u001b[38;5;167;01mException\u001b[39;00m \u001b[38;5;28;01mas\u001b[39;00m e:  \u001b[38;5;66;03m# pylint: disable=broad-except\u001b[39;00m\n\u001b[1;32m     66\u001b[0m   filtered_tb \u001b[38;5;241m=\u001b[39m _process_traceback_frames(e\u001b[38;5;241m.\u001b[39m__traceback__)\n\u001b[0;32m---> 67\u001b[0m   \u001b[38;5;28;01mraise\u001b[39;00m e\u001b[38;5;241m.\u001b[39mwith_traceback(filtered_tb) \u001b[38;5;28;01mfrom\u001b[39;00m \u001b[38;5;28mNone\u001b[39m\n\u001b[1;32m     68\u001b[0m \u001b[38;5;28;01mfinally\u001b[39;00m:\n\u001b[1;32m     69\u001b[0m   \u001b[38;5;28;01mdel\u001b[39;00m filtered_tb\n",
      "File \u001b[0;32m/tmp/__autograph_generated_file41z1ez1w.py:15\u001b[0m, in \u001b[0;36mouter_factory.<locals>.inner_factory.<locals>.tf__train_function\u001b[0;34m(iterator)\u001b[0m\n\u001b[1;32m     13\u001b[0m \u001b[38;5;28;01mtry\u001b[39;00m:\n\u001b[1;32m     14\u001b[0m     do_return \u001b[38;5;241m=\u001b[39m \u001b[38;5;28;01mTrue\u001b[39;00m\n\u001b[0;32m---> 15\u001b[0m     retval_ \u001b[38;5;241m=\u001b[39m ag__\u001b[38;5;241m.\u001b[39mconverted_call(ag__\u001b[38;5;241m.\u001b[39mld(step_function), (ag__\u001b[38;5;241m.\u001b[39mld(\u001b[38;5;28mself\u001b[39m), ag__\u001b[38;5;241m.\u001b[39mld(iterator)), \u001b[38;5;28;01mNone\u001b[39;00m, fscope)\n\u001b[1;32m     16\u001b[0m \u001b[38;5;28;01mexcept\u001b[39;00m:\n\u001b[1;32m     17\u001b[0m     do_return \u001b[38;5;241m=\u001b[39m \u001b[38;5;28;01mFalse\u001b[39;00m\n",
      "\u001b[0;31mValueError\u001b[0m: in user code:\n\n    File \"/usr/local/lib/python3.8/dist-packages/keras/engine/training.py\", line 1051, in train_function  *\n        return step_function(self, iterator)\n    File \"/usr/local/lib/python3.8/dist-packages/keras/engine/training.py\", line 1040, in step_function  **\n        outputs = model.distribute_strategy.run(run_step, args=(data,))\n    File \"/usr/local/lib/python3.8/dist-packages/keras/engine/training.py\", line 1030, in run_step  **\n        outputs = model.train_step(data)\n    File \"/usr/local/lib/python3.8/dist-packages/keras/engine/training.py\", line 889, in train_step\n        y_pred = self(x, training=True)\n    File \"/usr/local/lib/python3.8/dist-packages/keras/utils/traceback_utils.py\", line 67, in error_handler\n        raise e.with_traceback(filtered_tb) from None\n    File \"/usr/local/lib/python3.8/dist-packages/keras/engine/input_spec.py\", line 183, in assert_input_compatibility\n        raise ValueError(f'Missing data for input \"{name}\". '\n\n    ValueError: Missing data for input \"input_18\". You passed a data dictionary with keys ['image', 'label']. Expected the following keys: ['input_18']\n"
     ]
    }
   ],
   "source": [
    "# UNQ_C1\n",
    "# GRADED CODE: MNIST\n",
    "\n",
    "# Define the training parameters.\n",
    "args = {'export_path': './saved_model',\n",
    "        'buffer_size': 1000,\n",
    "        'batch_size': 32,\n",
    "        'learning_rate': 1e-3,\n",
    "        'epochs': 5\n",
    "}\n",
    "\n",
    "# Create the mnist object. \n",
    "mnist = MNIST(**args)\n",
    "\n",
    "# Train the model.\n",
    "mnist.train()\n",
    "\n",
    "# Save the model.\n",
    "mnist.export_model()\n",
    "\n",
    "# Evaluate the trained MNIST model.\n",
    "mnist.test()"
   ]
  },
  {
   "cell_type": "markdown",
   "metadata": {
    "colab_type": "text",
    "id": "sotJ7pQm7umV"
   },
   "source": [
    "## Create a Tarball\n",
    "\n",
    "The `export_model` method saved our model in the TensorFlow SavedModel format in the `./saved_model` directory. The SavedModel format saves our model and its weights in various files and directories. This makes it difficult to distribute our model. Therefore, it is convenient to create a single compressed file that contains all the files and folders of our model. To do this, we will use the `tar` archiving program to create a tarball (similar to a Zip file) that contains our SavedModel."
   ]
  },
  {
   "cell_type": "code",
   "execution_count": null,
   "metadata": {},
   "outputs": [],
   "source": [
    "# Create a tarball from the SavedModel.\n",
    "!tar -cz -f module.tar.gz -C ./saved_model ."
   ]
  },
  {
   "cell_type": "markdown",
   "metadata": {},
   "source": [
    "## Inspect the Tarball\n",
    "\n",
    "We can uncompress our tarball to make sure it has all the files and folders from our SavedModel."
   ]
  },
  {
   "cell_type": "code",
   "execution_count": null,
   "metadata": {
    "colab": {
     "base_uri": "https://localhost:8080/",
     "height": 143
    },
    "colab_type": "code",
    "id": "NknIrjE1ovkF",
    "outputId": "ca2a4d3b-b448-45af-cc7a-44e1096b7974"
   },
   "outputs": [],
   "source": [
    "# Inspect the tarball.\n",
    "!tar -tf module.tar.gz"
   ]
  },
  {
   "cell_type": "markdown",
   "metadata": {
    "colab_type": "text",
    "id": "n8LjCeO474N4"
   },
   "source": [
    "## Simulate Server Conditions\n",
    "\n",
    "Once we have verified our tarball, we can now simulate server conditions. In a normal scenario, we will fetch our TF Hub module from a remote server using the module's handle. However, since this notebook cannot host the server, we will instead point the module handle to the directory where our SavedModel is stored. "
   ]
  },
  {
   "cell_type": "code",
   "execution_count": null,
   "metadata": {
    "colab": {
     "base_uri": "https://localhost:8080/",
     "height": 143
    },
    "colab_type": "code",
    "id": "C-8vmmtVxJVF",
    "outputId": "05176438-367d-4914-d38e-db61d6e69978"
   },
   "outputs": [],
   "source": [
    "!rm -rf ./module\n",
    "!mkdir -p module\n",
    "!tar xvzf module.tar.gz -C ./module"
   ]
  },
  {
   "cell_type": "code",
   "execution_count": null,
   "metadata": {
    "colab": {},
    "colab_type": "code",
    "id": "TSmU1oZgxJZS"
   },
   "outputs": [],
   "source": [
    "# Define the module handle.\n",
    "MODULE_HANDLE = './module'"
   ]
  },
  {
   "cell_type": "markdown",
   "metadata": {},
   "source": [
    "## Load the TF Hub Module"
   ]
  },
  {
   "cell_type": "code",
   "execution_count": null,
   "metadata": {
    "colab": {},
    "colab_type": "code",
    "id": "b2lOfoKab5Rv"
   },
   "outputs": [],
   "source": [
    "# UNQ_C2\n",
    "# GRADED CODE: model\n",
    "\n",
    "# EXERCISE: Load the TF Hub module using the hub.load API.\n",
    "model = # YOUR CODE HERE"
   ]
  },
  {
   "cell_type": "markdown",
   "metadata": {},
   "source": [
    "## Test the TF Hub Module\n",
    "\n",
    "We will now test our TF Hub module with images from the `test` split of the MNIST dataset."
   ]
  },
  {
   "cell_type": "code",
   "execution_count": null,
   "metadata": {
    "colab": {},
    "colab_type": "code",
    "id": "dCmeWVj_ovno"
   },
   "outputs": [],
   "source": [
    "# UNQ_C3\n",
    "# GRADED CODE: dataset, test_dataset\n",
    "\n",
    "filePath = f\"{getcwd()}/../tmp2\"\n",
    "\n",
    "# EXERCISE: Load the MNIST 'test' split using tfds.load().\n",
    "# Make sure to use the argument data_dir=filePath. You\n",
    "# should load the images along with their corresponding labels.\n",
    "\n",
    "dataset = # YOUR CODE HERE\n",
    "\n",
    "# EXERCISE: Batch the dataset using a batch size of 32.\n",
    "test_dataset = # YOUR CODE HERE"
   ]
  },
  {
   "cell_type": "code",
   "execution_count": null,
   "metadata": {
    "colab": {
     "base_uri": "https://localhost:8080/",
     "height": 53
    },
    "colab_type": "code",
    "id": "wY9bVLTayn3H",
    "outputId": "72dd5ad9-359c-4f71-a054-55a2cb04d6a8"
   },
   "outputs": [],
   "source": [
    "# Test the TF Hub module for a single batch of data\n",
    "for batch_data in test_dataset.take(1):\n",
    "    outputs = model(batch_data[0])\n",
    "    outputs = np.argmax(outputs, axis=-1)\n",
    "    print('Predicted Labels:', outputs)\n",
    "    print('True Labels:     ', batch_data[1].numpy())"
   ]
  },
  {
   "cell_type": "markdown",
   "metadata": {},
   "source": [
    "We can see that the model correctly predicts the labels for most images in the batch. "
   ]
  },
  {
   "cell_type": "markdown",
   "metadata": {
    "colab_type": "text",
    "id": "ciRPFhPg8FWH"
   },
   "source": [
    "## Evaluate the Model Using Keras\n",
    "\n",
    "In the cell below, you will integrate the TensorFlow Hub module into the high level Keras API."
   ]
  },
  {
   "cell_type": "code",
   "execution_count": null,
   "metadata": {
    "colab": {},
    "colab_type": "code",
    "id": "YMjnPFOjxmus"
   },
   "outputs": [],
   "source": [
    "# UNQ_C4\n",
    "# GRADED CODE: dataset, test_dataset\n",
    "\n",
    "# EXERCISE: Integrate the TensorFlow Hub module into a Keras\n",
    "# sequential model. You should use a hub.KerasLayer and you \n",
    "# should make sure to use the correct values for the output_shape,\n",
    "# and input_shape parameters. You should also use tf.uint8 for\n",
    "# the dtype parameter.\n",
    "\n",
    "model = # YOUR CODE HERE\n",
    "\n",
    "# Compile the model.\n",
    "model.compile(optimizer='adam',\n",
    "              loss='sparse_categorical_crossentropy', \n",
    "              metrics=['accuracy'])"
   ]
  },
  {
   "cell_type": "code",
   "execution_count": null,
   "metadata": {
    "colab": {
     "base_uri": "https://localhost:8080/",
     "height": 35
    },
    "colab_type": "code",
    "id": "ShGHxh0Wx7lW",
    "outputId": "cce8cbc9-8f95-4965-d0cb-a8ce95e68156"
   },
   "outputs": [],
   "source": [
    "# Evaluate the model on the test_dataset.\n",
    "results = model.evaluate(test_dataset)"
   ]
  },
  {
   "cell_type": "code",
   "execution_count": null,
   "metadata": {
    "colab": {
     "base_uri": "https://localhost:8080/",
     "height": 53
    },
    "colab_type": "code",
    "id": "wZ6jUqbDx7s4",
    "outputId": "b408ecf5-e91f-4f5c-e147-30047b267131"
   },
   "outputs": [],
   "source": [
    "# Print the metric values on which the model is being evaluated on.\n",
    "for name, value in zip(model.metrics_names, results):\n",
    "    print(\"%s: %.3f\" % (name, value))"
   ]
  },
  {
   "cell_type": "markdown",
   "metadata": {},
   "source": [
    "# Submission Instructions"
   ]
  },
  {
   "cell_type": "code",
   "execution_count": null,
   "metadata": {},
   "outputs": [],
   "source": [
    "# Now click `File -> Save and Checkpoint` and press the 'Submit Assignment' button above."
   ]
  },
  {
   "cell_type": "markdown",
   "metadata": {},
   "source": [
    "# When you're done or would like to take a break, please run the two cells below to save your work and close the Notebook. This frees up resources for your fellow learners."
   ]
  },
  {
   "cell_type": "code",
   "execution_count": null,
   "metadata": {},
   "outputs": [],
   "source": [
    "%%javascript\n",
    "<!-- Save the notebook -->\n",
    "IPython.notebook.save_checkpoint();"
   ]
  },
  {
   "cell_type": "code",
   "execution_count": null,
   "metadata": {},
   "outputs": [],
   "source": [
    "%%javascript\n",
    "<!-- Shutdown and close the notebook -->\n",
    "window.onbeforeunload = null\n",
    "window.close();\n",
    "IPython.notebook.session.delete();"
   ]
  },
  {
   "cell_type": "code",
   "execution_count": null,
   "metadata": {},
   "outputs": [],
   "source": []
  }
 ],
 "metadata": {
  "accelerator": "GPU",
  "colab": {
   "collapsed_sections": [],
   "name": "MNIST TFHub Module 4 Answer.ipynb",
   "provenance": []
  },
  "coursera": {
   "course_slug": "advanced-deployment-scenarios-tensorflow",
   "graded_item_id": "fwoZ8",
   "launcher_item_id": "bBHO2"
  },
  "kernelspec": {
   "display_name": "Python 3",
   "language": "python",
   "name": "python3"
  },
  "language_info": {
   "codemirror_mode": {
    "name": "ipython",
    "version": 3
   },
   "file_extension": ".py",
   "mimetype": "text/x-python",
   "name": "python",
   "nbconvert_exporter": "python",
   "pygments_lexer": "ipython3",
   "version": "3.8.10"
  }
 },
 "nbformat": 4,
 "nbformat_minor": 1
}
