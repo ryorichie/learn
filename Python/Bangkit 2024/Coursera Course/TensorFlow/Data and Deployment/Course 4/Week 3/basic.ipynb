{
 "cells": [
  {
   "cell_type": "markdown",
   "metadata": {},
   "source": [
    "# Basic TF Model"
   ]
  },
  {
   "cell_type": "code",
   "execution_count": 2,
   "metadata": {},
   "outputs": [
    {
     "name": "stdout",
     "output_type": "stream",
     "text": [
      "Epoch 1/10\n",
      "1875/1875 [==============================] - 12s 5ms/step - loss: 0.4864 - accuracy: 0.8275 - val_loss: 0.4440 - val_accuracy: 0.8395\n",
      "Epoch 2/10\n",
      "1875/1875 [==============================] - 11s 6ms/step - loss: 0.3673 - accuracy: 0.8666 - val_loss: 0.3835 - val_accuracy: 0.8616\n",
      "Epoch 3/10\n",
      "1875/1875 [==============================] - 11s 6ms/step - loss: 0.3266 - accuracy: 0.8802 - val_loss: 0.3538 - val_accuracy: 0.8732\n",
      "Epoch 4/10\n",
      "1875/1875 [==============================] - 9s 5ms/step - loss: 0.3048 - accuracy: 0.8864 - val_loss: 0.3695 - val_accuracy: 0.8661\n",
      "Epoch 5/10\n",
      "1875/1875 [==============================] - 11s 6ms/step - loss: 0.2865 - accuracy: 0.8932 - val_loss: 0.3627 - val_accuracy: 0.8733\n",
      "Epoch 6/10\n",
      "1875/1875 [==============================] - 8s 4ms/step - loss: 0.2710 - accuracy: 0.8990 - val_loss: 0.3288 - val_accuracy: 0.8825\n",
      "Epoch 7/10\n",
      "1875/1875 [==============================] - 12s 6ms/step - loss: 0.2605 - accuracy: 0.9028 - val_loss: 0.3241 - val_accuracy: 0.8872\n",
      "Epoch 8/10\n",
      "1875/1875 [==============================] - 10s 5ms/step - loss: 0.2486 - accuracy: 0.9065 - val_loss: 0.3268 - val_accuracy: 0.8854\n",
      "Epoch 9/10\n",
      "1875/1875 [==============================] - 9s 5ms/step - loss: 0.2354 - accuracy: 0.9111 - val_loss: 0.3385 - val_accuracy: 0.8829\n",
      "Epoch 10/10\n",
      "1875/1875 [==============================] - 10s 5ms/step - loss: 0.2275 - accuracy: 0.9133 - val_loss: 0.3353 - val_accuracy: 0.8855\n",
      "313/313 [==============================] - 1s 2ms/step - loss: 0.3353 - accuracy: 0.8855\n",
      "Test accuracy: 88.55%\n"
     ]
    }
   ],
   "source": [
    "import tensorflow as tf\n",
    "from tensorflow.keras.datasets import fashion_mnist\n",
    "from tensorflow.keras.models import Sequential\n",
    "from tensorflow.keras.layers import Dense, Flatten, Conv2D\n",
    "import datetime as datetime\n",
    "\n",
    "# Load the FashionMNIST dataset\n",
    "(X_train, y_train), (X_test, y_test) = fashion_mnist.load_data()\n",
    "\n",
    "# Normalize the pixel values between 0 and 1\n",
    "X_train = X_train / 255.0\n",
    "X_test = X_test / 255.0\n",
    "\n",
    "# Define the model architecture\n",
    "model = Sequential([\n",
    "    Flatten(),\n",
    "    Dense(256, activation='relu'),\n",
    "    Dense(10, activation='softmax')\n",
    "])\n",
    "\n",
    "# Compile the model\n",
    "model.compile(optimizer='adam', loss='sparse_categorical_crossentropy', metrics=['accuracy'])\n",
    "\n",
    "log_dir = \"logs/fit/\" + datetime.datetime.now().strftime(\"%Y%m%d-%H%M%S\")\n",
    "tensorboard_callback = tf.keras.callbacks.TensorBoard(log_dir=log_dir, histogram_freq=1)\n",
    "\n",
    "# Train the model\n",
    "model.fit(X_train, y_train, epochs=10, validation_data=(X_test, y_test), callbacks=[tensorboard_callback])\n",
    "\n",
    "# Evaluate the model\n",
    "test_loss, test_acc = model.evaluate(X_test, y_test)\n",
    "print(f'Test accuracy: {test_acc * 100:.2f}%')"
   ]
  },
  {
   "cell_type": "code",
   "execution_count": 3,
   "metadata": {},
   "outputs": [
    {
     "name": "stderr",
     "output_type": "stream",
     "text": [
      "WARNING:tensorflow:From C:\\ProgramData\\anaconda3\\envs\\env-name\\lib\\site-packages\\keras\\src\\losses.py:2976: The name tf.losses.sparse_softmax_cross_entropy is deprecated. Please use tf.compat.v1.losses.sparse_softmax_cross_entropy instead.\n",
      "\n",
      "****************************************************************\n",
      "****************************************************************\n",
      "****************************************************************\n",
      "\n",
      "Uploading TensorBoard logs to https://tensorboard.dev/ is no longer\n",
      "supported.\n",
      "\n",
      "TensorBoard.dev is shutting down.\n",
      "\n",
      "Please export your experiments by Dec 31, 2023.\n",
      "\n",
      "See the FAQ at https://tensorboard.dev.\n",
      "\n",
      "****************************************************************\n",
      "****************************************************************\n",
      "****************************************************************\n"
     ]
    }
   ],
   "source": [
    "!tensorboard dev upload --logdir ./logs"
   ]
  }
 ],
 "metadata": {
  "kernelspec": {
   "display_name": "env-name",
   "language": "python",
   "name": "python3"
  },
  "language_info": {
   "codemirror_mode": {
    "name": "ipython",
    "version": 3
   },
   "file_extension": ".py",
   "mimetype": "text/x-python",
   "name": "python",
   "nbconvert_exporter": "python",
   "pygments_lexer": "ipython3",
   "version": "3.10.13"
  }
 },
 "nbformat": 4,
 "nbformat_minor": 2
}
