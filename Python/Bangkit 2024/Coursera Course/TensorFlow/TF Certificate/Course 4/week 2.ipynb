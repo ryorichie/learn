{
 "cells": [
  {
   "cell_type": "markdown",
   "metadata": {},
   "source": [
    "# Importing Library"
   ]
  },
  {
   "cell_type": "code",
   "execution_count": 4,
   "metadata": {},
   "outputs": [],
   "source": [
    "import tensorflow as tf\n",
    "import numpy as np"
   ]
  },
  {
   "cell_type": "markdown",
   "metadata": {},
   "source": [
    "## Making dataset"
   ]
  },
  {
   "cell_type": "code",
   "execution_count": 34,
   "metadata": {},
   "outputs": [],
   "source": [
    "def windows_dataset(series, window_size, batch_size, shuffle_buffer):\n",
    "    dataset = tf.data.Dataset.from_tensor_slices(series)\n",
    "    dataset = dataset.window(window_size + 1, shift=1, drop_remainder=True)\n",
    "    dataset = dataset.flat_map(lambda window: window.batch(window_size + 1))\n",
    "    dataset = dataset.shuffle(shuffle_buffer).map(lambda window: (window[:-1], window[-1]))\n",
    "    dataset = dataset.batch(batch_size).prefetch(1)\n",
    "    return dataset\n",
    "\n",
    "series = range(20)\n",
    "dataset = windows_dataset(series, 5, 2, 10)"
   ]
  },
  {
   "cell_type": "code",
   "execution_count": 35,
   "metadata": {},
   "outputs": [
    {
     "name": "stdout",
     "output_type": "stream",
     "text": [
      "x = [[ 0  1  2  3  4]\n",
      " [10 11 12 13 14]], y = [ 5 15]\n",
      "x = [[ 8  9 10 11 12]\n",
      " [ 7  8  9 10 11]], y = [13 12]\n",
      "x = [[12 13 14 15 16]\n",
      " [ 9 10 11 12 13]], y = [17 14]\n",
      "x = [[14 15 16 17 18]\n",
      " [11 12 13 14 15]], y = [19 16]\n",
      "x = [[ 2  3  4  5  6]\n",
      " [ 6  7  8  9 10]], y = [ 7 11]\n",
      "x = [[3 4 5 6 7]\n",
      " [5 6 7 8 9]], y = [ 8 10]\n",
      "x = [[13 14 15 16 17]\n",
      " [ 1  2  3  4  5]], y = [18  6]\n",
      "x = [[4 5 6 7 8]], y = [9]\n"
     ]
    }
   ],
   "source": [
    "# for windows_dataset in dataset:\n",
    "#     for val in windows_dataset:\n",
    "#         print(val.numpy(), end=' ')\n",
    "#     print()\n",
    "\n",
    "# for window in dataset:\n",
    "#     print(window.numpy())\n",
    "\n",
    "for x, y in dataset:\n",
    "    print(f'x = {x.numpy()}, y = {y.numpy()}')"
   ]
  },
  {
   "cell_type": "code",
   "execution_count": null,
   "metadata": {},
   "outputs": [],
   "source": []
  }
 ],
 "metadata": {
  "kernelspec": {
   "display_name": "Python 3",
   "language": "python",
   "name": "python3"
  },
  "language_info": {
   "codemirror_mode": {
    "name": "ipython",
    "version": 3
   },
   "file_extension": ".py",
   "mimetype": "text/x-python",
   "name": "python",
   "nbconvert_exporter": "python",
   "pygments_lexer": "ipython3",
   "version": "3.12.3"
  }
 },
 "nbformat": 4,
 "nbformat_minor": 2
}
