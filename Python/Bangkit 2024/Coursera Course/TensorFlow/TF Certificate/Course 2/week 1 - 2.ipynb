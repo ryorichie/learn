{
 "cells": [
  {
   "cell_type": "markdown",
   "metadata": {},
   "source": [
    "# Import library"
   ]
  },
  {
   "cell_type": "code",
   "execution_count": 51,
   "metadata": {},
   "outputs": [],
   "source": [
    "import numpy as np\n",
    "import tensorflow as tf\n",
    "import keras\n",
    "from keras import models\n",
    "from keras import layers\n",
    "from tensorflow.keras.optimizers import Adam\n",
    "from tensorflow.keras.preprocessing.image import ImageDataGenerator"
   ]
  },
  {
   "cell_type": "markdown",
   "metadata": {},
   "source": [
    "# Making data flow"
   ]
  },
  {
   "cell_type": "code",
   "execution_count": 46,
   "metadata": {},
   "outputs": [
    {
     "name": "stdout",
     "output_type": "stream",
     "text": [
      "Found 2000 images belonging to 2 classes.\n",
      "Found 1000 images belonging to 2 classes.\n"
     ]
    }
   ],
   "source": [
    "train_datagen = ImageDataGenerator(\n",
    "    rescale=1./255,\n",
    "    rotation_range=40,\n",
    "    width_shift_range=0.2,\n",
    "    height_shift_range=0.2,\n",
    "    shear_range=0.2,\n",
    "    zoom_range=0.2,\n",
    "    horizontal_flip=True,\n",
    "    fill_mode='nearest'\n",
    ")\n",
    "validation_datagen = ImageDataGenerator(rescale=1./255)\n",
    "\n",
    "train_generator = train_datagen.flow_from_directory(\n",
    "    'cats_and_dogs_filtered/train',\n",
    "    target_size=(150, 150),\n",
    "    batch_size=20,\n",
    "    class_mode='binary'\n",
    ")\n",
    "\n",
    "validation_generator = validation_datagen.flow_from_directory(\n",
    "    'cats_and_dogs_filtered/validation',\n",
    "    target_size=(150, 150),\n",
    "    batch_size=20,\n",
    "    class_mode='binary'\n",
    ")"
   ]
  },
  {
   "cell_type": "markdown",
   "metadata": {},
   "source": [
    "# Model Building"
   ]
  },
  {
   "cell_type": "code",
   "execution_count": 47,
   "metadata": {},
   "outputs": [
    {
     "name": "stderr",
     "output_type": "stream",
     "text": [
      "c:\\Python312\\Lib\\site-packages\\keras\\src\\layers\\convolutional\\base_conv.py:99: UserWarning: Do not pass an `input_shape`/`input_dim` argument to a layer. When using Sequential models, prefer using an `Input(shape)` object as the first layer in the model instead.\n",
      "  super().__init__(\n"
     ]
    },
    {
     "data": {
      "text/html": [
       "<pre style=\"white-space:pre;overflow-x:auto;line-height:normal;font-family:Menlo,'DejaVu Sans Mono',consolas,'Courier New',monospace\"><span style=\"font-weight: bold\">Model: \"sequential_20\"</span>\n",
       "</pre>\n"
      ],
      "text/plain": [
       "\u001b[1mModel: \"sequential_20\"\u001b[0m\n"
      ]
     },
     "metadata": {},
     "output_type": "display_data"
    },
    {
     "data": {
      "text/html": [
       "<pre style=\"white-space:pre;overflow-x:auto;line-height:normal;font-family:Menlo,'DejaVu Sans Mono',consolas,'Courier New',monospace\">┏━━━━━━━━━━━━━━━━━━━━━━━━━━━━━━━━━┳━━━━━━━━━━━━━━━━━━━━━━━━┳━━━━━━━━━━━━━━━┓\n",
       "┃<span style=\"font-weight: bold\"> Layer (type)                    </span>┃<span style=\"font-weight: bold\"> Output Shape           </span>┃<span style=\"font-weight: bold\">       Param # </span>┃\n",
       "┡━━━━━━━━━━━━━━━━━━━━━━━━━━━━━━━━━╇━━━━━━━━━━━━━━━━━━━━━━━━╇━━━━━━━━━━━━━━━┩\n",
       "│ conv2d_50 (<span style=\"color: #0087ff; text-decoration-color: #0087ff\">Conv2D</span>)              │ (<span style=\"color: #00d7ff; text-decoration-color: #00d7ff\">None</span>, <span style=\"color: #00af00; text-decoration-color: #00af00\">148</span>, <span style=\"color: #00af00; text-decoration-color: #00af00\">148</span>, <span style=\"color: #00af00; text-decoration-color: #00af00\">16</span>)   │           <span style=\"color: #00af00; text-decoration-color: #00af00\">448</span> │\n",
       "├─────────────────────────────────┼────────────────────────┼───────────────┤\n",
       "│ max_pooling2d_50 (<span style=\"color: #0087ff; text-decoration-color: #0087ff\">MaxPooling2D</span>) │ (<span style=\"color: #00d7ff; text-decoration-color: #00d7ff\">None</span>, <span style=\"color: #00af00; text-decoration-color: #00af00\">74</span>, <span style=\"color: #00af00; text-decoration-color: #00af00\">74</span>, <span style=\"color: #00af00; text-decoration-color: #00af00\">16</span>)     │             <span style=\"color: #00af00; text-decoration-color: #00af00\">0</span> │\n",
       "├─────────────────────────────────┼────────────────────────┼───────────────┤\n",
       "│ conv2d_51 (<span style=\"color: #0087ff; text-decoration-color: #0087ff\">Conv2D</span>)              │ (<span style=\"color: #00d7ff; text-decoration-color: #00d7ff\">None</span>, <span style=\"color: #00af00; text-decoration-color: #00af00\">72</span>, <span style=\"color: #00af00; text-decoration-color: #00af00\">72</span>, <span style=\"color: #00af00; text-decoration-color: #00af00\">32</span>)     │         <span style=\"color: #00af00; text-decoration-color: #00af00\">4,640</span> │\n",
       "├─────────────────────────────────┼────────────────────────┼───────────────┤\n",
       "│ max_pooling2d_51 (<span style=\"color: #0087ff; text-decoration-color: #0087ff\">MaxPooling2D</span>) │ (<span style=\"color: #00d7ff; text-decoration-color: #00d7ff\">None</span>, <span style=\"color: #00af00; text-decoration-color: #00af00\">36</span>, <span style=\"color: #00af00; text-decoration-color: #00af00\">36</span>, <span style=\"color: #00af00; text-decoration-color: #00af00\">32</span>)     │             <span style=\"color: #00af00; text-decoration-color: #00af00\">0</span> │\n",
       "├─────────────────────────────────┼────────────────────────┼───────────────┤\n",
       "│ conv2d_52 (<span style=\"color: #0087ff; text-decoration-color: #0087ff\">Conv2D</span>)              │ (<span style=\"color: #00d7ff; text-decoration-color: #00d7ff\">None</span>, <span style=\"color: #00af00; text-decoration-color: #00af00\">34</span>, <span style=\"color: #00af00; text-decoration-color: #00af00\">34</span>, <span style=\"color: #00af00; text-decoration-color: #00af00\">64</span>)     │        <span style=\"color: #00af00; text-decoration-color: #00af00\">18,496</span> │\n",
       "├─────────────────────────────────┼────────────────────────┼───────────────┤\n",
       "│ max_pooling2d_52 (<span style=\"color: #0087ff; text-decoration-color: #0087ff\">MaxPooling2D</span>) │ (<span style=\"color: #00d7ff; text-decoration-color: #00d7ff\">None</span>, <span style=\"color: #00af00; text-decoration-color: #00af00\">17</span>, <span style=\"color: #00af00; text-decoration-color: #00af00\">17</span>, <span style=\"color: #00af00; text-decoration-color: #00af00\">64</span>)     │             <span style=\"color: #00af00; text-decoration-color: #00af00\">0</span> │\n",
       "├─────────────────────────────────┼────────────────────────┼───────────────┤\n",
       "│ flatten_18 (<span style=\"color: #0087ff; text-decoration-color: #0087ff\">Flatten</span>)            │ (<span style=\"color: #00d7ff; text-decoration-color: #00d7ff\">None</span>, <span style=\"color: #00af00; text-decoration-color: #00af00\">18496</span>)          │             <span style=\"color: #00af00; text-decoration-color: #00af00\">0</span> │\n",
       "├─────────────────────────────────┼────────────────────────┼───────────────┤\n",
       "│ dense_36 (<span style=\"color: #0087ff; text-decoration-color: #0087ff\">Dense</span>)                │ (<span style=\"color: #00d7ff; text-decoration-color: #00d7ff\">None</span>, <span style=\"color: #00af00; text-decoration-color: #00af00\">512</span>)            │     <span style=\"color: #00af00; text-decoration-color: #00af00\">9,470,464</span> │\n",
       "├─────────────────────────────────┼────────────────────────┼───────────────┤\n",
       "│ dense_37 (<span style=\"color: #0087ff; text-decoration-color: #0087ff\">Dense</span>)                │ (<span style=\"color: #00d7ff; text-decoration-color: #00d7ff\">None</span>, <span style=\"color: #00af00; text-decoration-color: #00af00\">1</span>)              │           <span style=\"color: #00af00; text-decoration-color: #00af00\">513</span> │\n",
       "└─────────────────────────────────┴────────────────────────┴───────────────┘\n",
       "</pre>\n"
      ],
      "text/plain": [
       "┏━━━━━━━━━━━━━━━━━━━━━━━━━━━━━━━━━┳━━━━━━━━━━━━━━━━━━━━━━━━┳━━━━━━━━━━━━━━━┓\n",
       "┃\u001b[1m \u001b[0m\u001b[1mLayer (type)                   \u001b[0m\u001b[1m \u001b[0m┃\u001b[1m \u001b[0m\u001b[1mOutput Shape          \u001b[0m\u001b[1m \u001b[0m┃\u001b[1m \u001b[0m\u001b[1m      Param #\u001b[0m\u001b[1m \u001b[0m┃\n",
       "┡━━━━━━━━━━━━━━━━━━━━━━━━━━━━━━━━━╇━━━━━━━━━━━━━━━━━━━━━━━━╇━━━━━━━━━━━━━━━┩\n",
       "│ conv2d_50 (\u001b[38;5;33mConv2D\u001b[0m)              │ (\u001b[38;5;45mNone\u001b[0m, \u001b[38;5;34m148\u001b[0m, \u001b[38;5;34m148\u001b[0m, \u001b[38;5;34m16\u001b[0m)   │           \u001b[38;5;34m448\u001b[0m │\n",
       "├─────────────────────────────────┼────────────────────────┼───────────────┤\n",
       "│ max_pooling2d_50 (\u001b[38;5;33mMaxPooling2D\u001b[0m) │ (\u001b[38;5;45mNone\u001b[0m, \u001b[38;5;34m74\u001b[0m, \u001b[38;5;34m74\u001b[0m, \u001b[38;5;34m16\u001b[0m)     │             \u001b[38;5;34m0\u001b[0m │\n",
       "├─────────────────────────────────┼────────────────────────┼───────────────┤\n",
       "│ conv2d_51 (\u001b[38;5;33mConv2D\u001b[0m)              │ (\u001b[38;5;45mNone\u001b[0m, \u001b[38;5;34m72\u001b[0m, \u001b[38;5;34m72\u001b[0m, \u001b[38;5;34m32\u001b[0m)     │         \u001b[38;5;34m4,640\u001b[0m │\n",
       "├─────────────────────────────────┼────────────────────────┼───────────────┤\n",
       "│ max_pooling2d_51 (\u001b[38;5;33mMaxPooling2D\u001b[0m) │ (\u001b[38;5;45mNone\u001b[0m, \u001b[38;5;34m36\u001b[0m, \u001b[38;5;34m36\u001b[0m, \u001b[38;5;34m32\u001b[0m)     │             \u001b[38;5;34m0\u001b[0m │\n",
       "├─────────────────────────────────┼────────────────────────┼───────────────┤\n",
       "│ conv2d_52 (\u001b[38;5;33mConv2D\u001b[0m)              │ (\u001b[38;5;45mNone\u001b[0m, \u001b[38;5;34m34\u001b[0m, \u001b[38;5;34m34\u001b[0m, \u001b[38;5;34m64\u001b[0m)     │        \u001b[38;5;34m18,496\u001b[0m │\n",
       "├─────────────────────────────────┼────────────────────────┼───────────────┤\n",
       "│ max_pooling2d_52 (\u001b[38;5;33mMaxPooling2D\u001b[0m) │ (\u001b[38;5;45mNone\u001b[0m, \u001b[38;5;34m17\u001b[0m, \u001b[38;5;34m17\u001b[0m, \u001b[38;5;34m64\u001b[0m)     │             \u001b[38;5;34m0\u001b[0m │\n",
       "├─────────────────────────────────┼────────────────────────┼───────────────┤\n",
       "│ flatten_18 (\u001b[38;5;33mFlatten\u001b[0m)            │ (\u001b[38;5;45mNone\u001b[0m, \u001b[38;5;34m18496\u001b[0m)          │             \u001b[38;5;34m0\u001b[0m │\n",
       "├─────────────────────────────────┼────────────────────────┼───────────────┤\n",
       "│ dense_36 (\u001b[38;5;33mDense\u001b[0m)                │ (\u001b[38;5;45mNone\u001b[0m, \u001b[38;5;34m512\u001b[0m)            │     \u001b[38;5;34m9,470,464\u001b[0m │\n",
       "├─────────────────────────────────┼────────────────────────┼───────────────┤\n",
       "│ dense_37 (\u001b[38;5;33mDense\u001b[0m)                │ (\u001b[38;5;45mNone\u001b[0m, \u001b[38;5;34m1\u001b[0m)              │           \u001b[38;5;34m513\u001b[0m │\n",
       "└─────────────────────────────────┴────────────────────────┴───────────────┘\n"
      ]
     },
     "metadata": {},
     "output_type": "display_data"
    },
    {
     "data": {
      "text/html": [
       "<pre style=\"white-space:pre;overflow-x:auto;line-height:normal;font-family:Menlo,'DejaVu Sans Mono',consolas,'Courier New',monospace\"><span style=\"font-weight: bold\"> Total params: </span><span style=\"color: #00af00; text-decoration-color: #00af00\">9,494,561</span> (36.22 MB)\n",
       "</pre>\n"
      ],
      "text/plain": [
       "\u001b[1m Total params: \u001b[0m\u001b[38;5;34m9,494,561\u001b[0m (36.22 MB)\n"
      ]
     },
     "metadata": {},
     "output_type": "display_data"
    },
    {
     "data": {
      "text/html": [
       "<pre style=\"white-space:pre;overflow-x:auto;line-height:normal;font-family:Menlo,'DejaVu Sans Mono',consolas,'Courier New',monospace\"><span style=\"font-weight: bold\"> Trainable params: </span><span style=\"color: #00af00; text-decoration-color: #00af00\">9,494,561</span> (36.22 MB)\n",
       "</pre>\n"
      ],
      "text/plain": [
       "\u001b[1m Trainable params: \u001b[0m\u001b[38;5;34m9,494,561\u001b[0m (36.22 MB)\n"
      ]
     },
     "metadata": {},
     "output_type": "display_data"
    },
    {
     "data": {
      "text/html": [
       "<pre style=\"white-space:pre;overflow-x:auto;line-height:normal;font-family:Menlo,'DejaVu Sans Mono',consolas,'Courier New',monospace\"><span style=\"font-weight: bold\"> Non-trainable params: </span><span style=\"color: #00af00; text-decoration-color: #00af00\">0</span> (0.00 B)\n",
       "</pre>\n"
      ],
      "text/plain": [
       "\u001b[1m Non-trainable params: \u001b[0m\u001b[38;5;34m0\u001b[0m (0.00 B)\n"
      ]
     },
     "metadata": {},
     "output_type": "display_data"
    }
   ],
   "source": [
    "model = tf.keras.models.Sequential([\n",
    "    # The first convolution\n",
    "    tf.keras.layers.Conv2D(16, (3,3), activation='relu', input_shape=(150, 150, 3)),\n",
    "    tf.keras.layers.MaxPooling2D(2, 2),\n",
    "    # The second convolution\n",
    "    tf.keras.layers.Conv2D(32, (3,3), activation='relu'),\n",
    "    tf.keras.layers.MaxPooling2D(2,2),\n",
    "    tf.keras.layers.Conv2D(64, (3,3), activation='relu'),\n",
    "    tf.keras.layers.MaxPooling2D(2,2),\n",
    "    tf.keras.layers.Flatten(),\n",
    "    tf.keras.layers.Dense(512, activation='relu'),\n",
    "    tf.keras.layers.Dense(1, activation='sigmoid'),\n",
    "])\n",
    "\n",
    "model.summary()\n"
   ]
  },
  {
   "cell_type": "code",
   "execution_count": 52,
   "metadata": {},
   "outputs": [
    {
     "name": "stdout",
     "output_type": "stream",
     "text": [
      "Epoch 1/100\n",
      "100/100 - 22s - 219ms/step - accuracy: 0.7360 - loss: 0.5339 - val_accuracy: 0.7260 - val_loss: 0.5479\n",
      "Epoch 2/100\n",
      "100/100 - 19s - 192ms/step - accuracy: 0.7245 - loss: 0.5328 - val_accuracy: 0.7440 - val_loss: 0.5158\n",
      "Epoch 3/100\n",
      "100/100 - 19s - 194ms/step - accuracy: 0.7395 - loss: 0.5188 - val_accuracy: 0.7530 - val_loss: 0.4991\n",
      "Epoch 4/100\n",
      "100/100 - 19s - 190ms/step - accuracy: 0.7470 - loss: 0.5289 - val_accuracy: 0.7100 - val_loss: 0.5507\n",
      "Epoch 5/100\n",
      "100/100 - 19s - 191ms/step - accuracy: 0.7460 - loss: 0.5149 - val_accuracy: 0.7620 - val_loss: 0.4896\n",
      "Epoch 6/100\n",
      "100/100 - 20s - 199ms/step - accuracy: 0.7515 - loss: 0.5220 - val_accuracy: 0.7570 - val_loss: 0.5021\n",
      "Epoch 7/100\n",
      "100/100 - 23s - 229ms/step - accuracy: 0.7575 - loss: 0.5009 - val_accuracy: 0.7420 - val_loss: 0.5205\n",
      "Epoch 8/100\n",
      "100/100 - 25s - 250ms/step - accuracy: 0.7460 - loss: 0.5051 - val_accuracy: 0.7240 - val_loss: 0.5243\n",
      "Epoch 9/100\n",
      "100/100 - 23s - 235ms/step - accuracy: 0.7405 - loss: 0.5184 - val_accuracy: 0.7480 - val_loss: 0.5034\n",
      "Epoch 10/100\n",
      "100/100 - 23s - 226ms/step - accuracy: 0.7590 - loss: 0.4949 - val_accuracy: 0.7630 - val_loss: 0.4702\n",
      "Epoch 11/100\n",
      "100/100 - 23s - 230ms/step - accuracy: 0.7560 - loss: 0.5138 - val_accuracy: 0.7480 - val_loss: 0.5002\n",
      "Epoch 12/100\n",
      "100/100 - 24s - 239ms/step - accuracy: 0.7610 - loss: 0.5025 - val_accuracy: 0.7370 - val_loss: 0.5059\n",
      "Epoch 13/100\n",
      "100/100 - 27s - 274ms/step - accuracy: 0.7655 - loss: 0.4889 - val_accuracy: 0.7460 - val_loss: 0.5132\n",
      "Epoch 14/100\n",
      "100/100 - 27s - 269ms/step - accuracy: 0.7620 - loss: 0.4940 - val_accuracy: 0.7550 - val_loss: 0.4910\n",
      "Epoch 15/100\n",
      "100/100 - 26s - 262ms/step - accuracy: 0.7750 - loss: 0.4722 - val_accuracy: 0.7800 - val_loss: 0.4644\n",
      "Epoch 16/100\n",
      "100/100 - 27s - 274ms/step - accuracy: 0.7755 - loss: 0.4697 - val_accuracy: 0.7680 - val_loss: 0.4677\n",
      "Epoch 17/100\n",
      "100/100 - 26s - 262ms/step - accuracy: 0.7840 - loss: 0.4667 - val_accuracy: 0.7660 - val_loss: 0.4823\n",
      "Epoch 18/100\n",
      "100/100 - 27s - 267ms/step - accuracy: 0.7700 - loss: 0.4767 - val_accuracy: 0.7520 - val_loss: 0.5207\n",
      "Epoch 19/100\n",
      "100/100 - 26s - 258ms/step - accuracy: 0.7730 - loss: 0.4704 - val_accuracy: 0.7830 - val_loss: 0.4553\n",
      "Epoch 20/100\n",
      "100/100 - 26s - 264ms/step - accuracy: 0.7830 - loss: 0.4533 - val_accuracy: 0.7850 - val_loss: 0.4739\n",
      "Epoch 21/100\n",
      "100/100 - 26s - 261ms/step - accuracy: 0.7815 - loss: 0.4560 - val_accuracy: 0.7640 - val_loss: 0.4939\n",
      "Epoch 22/100\n",
      "100/100 - 26s - 255ms/step - accuracy: 0.8005 - loss: 0.4402 - val_accuracy: 0.7780 - val_loss: 0.4581\n",
      "Epoch 23/100\n",
      "100/100 - 30s - 304ms/step - accuracy: 0.7755 - loss: 0.4639 - val_accuracy: 0.7760 - val_loss: 0.4546\n",
      "Epoch 24/100\n",
      "100/100 - 29s - 293ms/step - accuracy: 0.7885 - loss: 0.4535 - val_accuracy: 0.7570 - val_loss: 0.4972\n",
      "Epoch 25/100\n",
      "100/100 - 29s - 289ms/step - accuracy: 0.7675 - loss: 0.4665 - val_accuracy: 0.7660 - val_loss: 0.4833\n",
      "Epoch 26/100\n",
      "100/100 - 31s - 313ms/step - accuracy: 0.7910 - loss: 0.4336 - val_accuracy: 0.7850 - val_loss: 0.4357\n",
      "Epoch 27/100\n",
      "100/100 - 31s - 308ms/step - accuracy: 0.7930 - loss: 0.4389 - val_accuracy: 0.7650 - val_loss: 0.4775\n",
      "Epoch 28/100\n",
      "100/100 - 26s - 258ms/step - accuracy: 0.7960 - loss: 0.4334 - val_accuracy: 0.7970 - val_loss: 0.4426\n",
      "Epoch 29/100\n",
      "100/100 - 27s - 265ms/step - accuracy: 0.8160 - loss: 0.4129 - val_accuracy: 0.7840 - val_loss: 0.4521\n",
      "Epoch 30/100\n",
      "100/100 - 28s - 280ms/step - accuracy: 0.8060 - loss: 0.4193 - val_accuracy: 0.7830 - val_loss: 0.4312\n",
      "Epoch 31/100\n",
      "100/100 - 26s - 256ms/step - accuracy: 0.8025 - loss: 0.4213 - val_accuracy: 0.8020 - val_loss: 0.4581\n",
      "Epoch 32/100\n",
      "100/100 - 26s - 256ms/step - accuracy: 0.8015 - loss: 0.4107 - val_accuracy: 0.7790 - val_loss: 0.4492\n",
      "Epoch 33/100\n",
      "100/100 - 24s - 240ms/step - accuracy: 0.8115 - loss: 0.4182 - val_accuracy: 0.7870 - val_loss: 0.4332\n",
      "Epoch 34/100\n",
      "100/100 - 25s - 252ms/step - accuracy: 0.8170 - loss: 0.4182 - val_accuracy: 0.7900 - val_loss: 0.4510\n",
      "Epoch 35/100\n",
      "100/100 - 26s - 259ms/step - accuracy: 0.8050 - loss: 0.4181 - val_accuracy: 0.7890 - val_loss: 0.4331\n",
      "Epoch 36/100\n",
      "100/100 - 27s - 274ms/step - accuracy: 0.8150 - loss: 0.3985 - val_accuracy: 0.7850 - val_loss: 0.4597\n",
      "Epoch 37/100\n",
      "100/100 - 25s - 254ms/step - accuracy: 0.8300 - loss: 0.3834 - val_accuracy: 0.7810 - val_loss: 0.4610\n",
      "Epoch 38/100\n",
      "100/100 - 26s - 257ms/step - accuracy: 0.8270 - loss: 0.3915 - val_accuracy: 0.7870 - val_loss: 0.4412\n",
      "Epoch 39/100\n",
      "100/100 - 26s - 263ms/step - accuracy: 0.8265 - loss: 0.3935 - val_accuracy: 0.7800 - val_loss: 0.4925\n",
      "Epoch 40/100\n",
      "100/100 - 29s - 289ms/step - accuracy: 0.8250 - loss: 0.3912 - val_accuracy: 0.7870 - val_loss: 0.4509\n",
      "Epoch 41/100\n",
      "100/100 - 24s - 239ms/step - accuracy: 0.8165 - loss: 0.3847 - val_accuracy: 0.8050 - val_loss: 0.4434\n",
      "Epoch 42/100\n",
      "100/100 - 28s - 283ms/step - accuracy: 0.8300 - loss: 0.3816 - val_accuracy: 0.7910 - val_loss: 0.4603\n",
      "Epoch 43/100\n",
      "100/100 - 21s - 213ms/step - accuracy: 0.8175 - loss: 0.3951 - val_accuracy: 0.7950 - val_loss: 0.4458\n",
      "Epoch 44/100\n",
      "100/100 - 25s - 246ms/step - accuracy: 0.8300 - loss: 0.3705 - val_accuracy: 0.7850 - val_loss: 0.4531\n",
      "Epoch 45/100\n",
      "100/100 - 24s - 236ms/step - accuracy: 0.8280 - loss: 0.3749 - val_accuracy: 0.8050 - val_loss: 0.4271\n",
      "Epoch 46/100\n",
      "100/100 - 24s - 235ms/step - accuracy: 0.8420 - loss: 0.3613 - val_accuracy: 0.8130 - val_loss: 0.4244\n",
      "Epoch 47/100\n",
      "100/100 - 23s - 234ms/step - accuracy: 0.8520 - loss: 0.3439 - val_accuracy: 0.7990 - val_loss: 0.4615\n",
      "Epoch 48/100\n",
      "100/100 - 23s - 234ms/step - accuracy: 0.8275 - loss: 0.3900 - val_accuracy: 0.7970 - val_loss: 0.4330\n",
      "Epoch 49/100\n",
      "100/100 - 24s - 240ms/step - accuracy: 0.8265 - loss: 0.3695 - val_accuracy: 0.7980 - val_loss: 0.4520\n",
      "Epoch 50/100\n",
      "100/100 - 24s - 237ms/step - accuracy: 0.8595 - loss: 0.3308 - val_accuracy: 0.7990 - val_loss: 0.5224\n",
      "Epoch 51/100\n",
      "100/100 - 24s - 235ms/step - accuracy: 0.8440 - loss: 0.3521 - val_accuracy: 0.7970 - val_loss: 0.4947\n",
      "Epoch 52/100\n",
      "100/100 - 24s - 243ms/step - accuracy: 0.8460 - loss: 0.3551 - val_accuracy: 0.7970 - val_loss: 0.4402\n",
      "Epoch 53/100\n",
      "100/100 - 24s - 239ms/step - accuracy: 0.8515 - loss: 0.3541 - val_accuracy: 0.7930 - val_loss: 0.4328\n",
      "Epoch 54/100\n",
      "100/100 - 26s - 257ms/step - accuracy: 0.8540 - loss: 0.3370 - val_accuracy: 0.7990 - val_loss: 0.4593\n",
      "Epoch 55/100\n",
      "100/100 - 28s - 282ms/step - accuracy: 0.8450 - loss: 0.3522 - val_accuracy: 0.7780 - val_loss: 0.5009\n",
      "Epoch 56/100\n",
      "100/100 - 27s - 275ms/step - accuracy: 0.8450 - loss: 0.3541 - val_accuracy: 0.7790 - val_loss: 0.4569\n",
      "Epoch 57/100\n",
      "100/100 - 25s - 253ms/step - accuracy: 0.8470 - loss: 0.3482 - val_accuracy: 0.8120 - val_loss: 0.4600\n",
      "Epoch 58/100\n",
      "100/100 - 25s - 251ms/step - accuracy: 0.8660 - loss: 0.3227 - val_accuracy: 0.8070 - val_loss: 0.4213\n",
      "Epoch 59/100\n",
      "100/100 - 25s - 250ms/step - accuracy: 0.8565 - loss: 0.3254 - val_accuracy: 0.7990 - val_loss: 0.4529\n",
      "Epoch 60/100\n",
      "100/100 - 25s - 249ms/step - accuracy: 0.8645 - loss: 0.3316 - val_accuracy: 0.8070 - val_loss: 0.4560\n",
      "Epoch 61/100\n",
      "100/100 - 26s - 257ms/step - accuracy: 0.8540 - loss: 0.3430 - val_accuracy: 0.7970 - val_loss: 0.4417\n",
      "Epoch 62/100\n",
      "100/100 - 25s - 253ms/step - accuracy: 0.8570 - loss: 0.3253 - val_accuracy: 0.7960 - val_loss: 0.4464\n",
      "Epoch 63/100\n",
      "100/100 - 24s - 239ms/step - accuracy: 0.8635 - loss: 0.3174 - val_accuracy: 0.7910 - val_loss: 0.4789\n",
      "Epoch 64/100\n",
      "100/100 - 25s - 246ms/step - accuracy: 0.8550 - loss: 0.3190 - val_accuracy: 0.8160 - val_loss: 0.4450\n",
      "Epoch 65/100\n",
      "100/100 - 26s - 260ms/step - accuracy: 0.8710 - loss: 0.2986 - val_accuracy: 0.8060 - val_loss: 0.4816\n",
      "Epoch 66/100\n",
      "100/100 - 27s - 268ms/step - accuracy: 0.8680 - loss: 0.3076 - val_accuracy: 0.8100 - val_loss: 0.4291\n",
      "Epoch 67/100\n",
      "100/100 - 26s - 260ms/step - accuracy: 0.8640 - loss: 0.3079 - val_accuracy: 0.7880 - val_loss: 0.4733\n",
      "Epoch 68/100\n",
      "100/100 - 26s - 256ms/step - accuracy: 0.8640 - loss: 0.3324 - val_accuracy: 0.8060 - val_loss: 0.4354\n",
      "Epoch 69/100\n",
      "100/100 - 29s - 294ms/step - accuracy: 0.8715 - loss: 0.2996 - val_accuracy: 0.8070 - val_loss: 0.4577\n",
      "Epoch 70/100\n",
      "100/100 - 31s - 314ms/step - accuracy: 0.8660 - loss: 0.3076 - val_accuracy: 0.8020 - val_loss: 0.4547\n",
      "Epoch 71/100\n",
      "100/100 - 35s - 349ms/step - accuracy: 0.8805 - loss: 0.2629 - val_accuracy: 0.7970 - val_loss: 0.4477\n",
      "Epoch 72/100\n",
      "100/100 - 30s - 298ms/step - accuracy: 0.8785 - loss: 0.2877 - val_accuracy: 0.8010 - val_loss: 0.4458\n",
      "Epoch 73/100\n",
      "100/100 - 30s - 297ms/step - accuracy: 0.8810 - loss: 0.2716 - val_accuracy: 0.8070 - val_loss: 0.4967\n",
      "Epoch 74/100\n",
      "100/100 - 29s - 289ms/step - accuracy: 0.8610 - loss: 0.3094 - val_accuracy: 0.8130 - val_loss: 0.4501\n",
      "Epoch 75/100\n",
      "100/100 - 29s - 291ms/step - accuracy: 0.8805 - loss: 0.2749 - val_accuracy: 0.8120 - val_loss: 0.5279\n",
      "Epoch 76/100\n",
      "100/100 - 24s - 244ms/step - accuracy: 0.8740 - loss: 0.2816 - val_accuracy: 0.8070 - val_loss: 0.4750\n",
      "Epoch 77/100\n",
      "100/100 - 25s - 246ms/step - accuracy: 0.8820 - loss: 0.2846 - val_accuracy: 0.7870 - val_loss: 0.5034\n",
      "Epoch 78/100\n",
      "100/100 - 25s - 246ms/step - accuracy: 0.8805 - loss: 0.2809 - val_accuracy: 0.8060 - val_loss: 0.4550\n",
      "Epoch 79/100\n",
      "100/100 - 24s - 244ms/step - accuracy: 0.8760 - loss: 0.2836 - val_accuracy: 0.8080 - val_loss: 0.4389\n",
      "Epoch 80/100\n",
      "100/100 - 22s - 223ms/step - accuracy: 0.8760 - loss: 0.2880 - val_accuracy: 0.7860 - val_loss: 0.4561\n",
      "Epoch 81/100\n",
      "100/100 - 23s - 234ms/step - accuracy: 0.8830 - loss: 0.2795 - val_accuracy: 0.7970 - val_loss: 0.4847\n",
      "Epoch 82/100\n",
      "100/100 - 20s - 201ms/step - accuracy: 0.8905 - loss: 0.2719 - val_accuracy: 0.8200 - val_loss: 0.4392\n",
      "Epoch 83/100\n",
      "100/100 - 21s - 206ms/step - accuracy: 0.9010 - loss: 0.2538 - val_accuracy: 0.7930 - val_loss: 0.4966\n",
      "Epoch 84/100\n",
      "100/100 - 20s - 203ms/step - accuracy: 0.8715 - loss: 0.2916 - val_accuracy: 0.7970 - val_loss: 0.4866\n",
      "Epoch 85/100\n",
      "100/100 - 20s - 204ms/step - accuracy: 0.8815 - loss: 0.2723 - val_accuracy: 0.8010 - val_loss: 0.4661\n",
      "Epoch 86/100\n",
      "100/100 - 20s - 199ms/step - accuracy: 0.8925 - loss: 0.2759 - val_accuracy: 0.8110 - val_loss: 0.4734\n",
      "Epoch 87/100\n",
      "100/100 - 20s - 197ms/step - accuracy: 0.8860 - loss: 0.2648 - val_accuracy: 0.8200 - val_loss: 0.4826\n",
      "Epoch 88/100\n",
      "100/100 - 20s - 200ms/step - accuracy: 0.8870 - loss: 0.2650 - val_accuracy: 0.8170 - val_loss: 0.4666\n",
      "Epoch 89/100\n",
      "100/100 - 20s - 201ms/step - accuracy: 0.8945 - loss: 0.2679 - val_accuracy: 0.7880 - val_loss: 0.5510\n",
      "Epoch 90/100\n",
      "100/100 - 21s - 209ms/step - accuracy: 0.8860 - loss: 0.2689 - val_accuracy: 0.8190 - val_loss: 0.4439\n",
      "Epoch 91/100\n",
      "100/100 - 19s - 193ms/step - accuracy: 0.8910 - loss: 0.2491 - val_accuracy: 0.8230 - val_loss: 0.4513\n",
      "Epoch 92/100\n",
      "100/100 - 20s - 203ms/step - accuracy: 0.8865 - loss: 0.2659 - val_accuracy: 0.8020 - val_loss: 0.4686\n",
      "Epoch 93/100\n",
      "100/100 - 20s - 200ms/step - accuracy: 0.8930 - loss: 0.2627 - val_accuracy: 0.7920 - val_loss: 0.5284\n",
      "Epoch 94/100\n",
      "100/100 - 22s - 216ms/step - accuracy: 0.8970 - loss: 0.2365 - val_accuracy: 0.8070 - val_loss: 0.5290\n",
      "Epoch 95/100\n",
      "100/100 - 19s - 195ms/step - accuracy: 0.9080 - loss: 0.2251 - val_accuracy: 0.7990 - val_loss: 0.5261\n",
      "Epoch 96/100\n",
      "100/100 - 20s - 198ms/step - accuracy: 0.8905 - loss: 0.2475 - val_accuracy: 0.7930 - val_loss: 0.5730\n",
      "Epoch 97/100\n",
      "100/100 - 19s - 194ms/step - accuracy: 0.8895 - loss: 0.2577 - val_accuracy: 0.8170 - val_loss: 0.5464\n",
      "Epoch 98/100\n",
      "100/100 - 22s - 215ms/step - accuracy: 0.8970 - loss: 0.2518 - val_accuracy: 0.8040 - val_loss: 0.5104\n",
      "Epoch 99/100\n",
      "100/100 - 20s - 200ms/step - accuracy: 0.8985 - loss: 0.2459 - val_accuracy: 0.8200 - val_loss: 0.5446\n",
      "Epoch 100/100\n",
      "100/100 - 20s - 202ms/step - accuracy: 0.8970 - loss: 0.2514 - val_accuracy: 0.8170 - val_loss: 0.4975\n"
     ]
    },
    {
     "data": {
      "text/plain": [
       "<keras.src.callbacks.history.History at 0x2ad4ac1ddf0>"
      ]
     },
     "execution_count": 52,
     "metadata": {},
     "output_type": "execute_result"
    }
   ],
   "source": [
    "\n",
    "model.compile(\n",
    "    loss='binary_crossentropy',\n",
    "    optimizer=Adam(),\n",
    "    metrics=['accuracy']\n",
    ")\n",
    "\n",
    "model.fit(\n",
    "    train_generator,\n",
    "    epochs=100,\n",
    "    validation_data=validation_generator,\n",
    "    verbose=2,\n",
    ")"
   ]
  },
  {
   "cell_type": "code",
   "execution_count": null,
   "metadata": {},
   "outputs": [],
   "source": []
  }
 ],
 "metadata": {
  "kernelspec": {
   "display_name": "Python 3",
   "language": "python",
   "name": "python3"
  },
  "language_info": {
   "codemirror_mode": {
    "name": "ipython",
    "version": 3
   },
   "file_extension": ".py",
   "mimetype": "text/x-python",
   "name": "python",
   "nbconvert_exporter": "python",
   "pygments_lexer": "ipython3",
   "version": "3.12.1"
  }
 },
 "nbformat": 4,
 "nbformat_minor": 2
}
